{
  "nbformat": 4,
  "nbformat_minor": 0,
  "metadata": {
    "colab": {
      "name": "Lesson8_PUBG_features",
      "version": "0.3.2",
      "provenance": [],
      "collapsed_sections": [
        "rwrZBWR4FkC8",
        "_kDVLZcVFB29",
        "bQZmRqycHH6j",
        "a8UHhaAaHDRz",
        "z0Tr_tMQNudO",
        "S2UlWuSuLYQO",
        "pbc9b6XlOVPu",
        "IUyfWe_i5m2Y",
        "8D8fGDJdnhAM",
        "Zgwa0le5o6Zj",
        "3-xIgMBQug9s",
        "0W8kv_w3w4dH",
        "8-iS0XITyHOO",
        "zlsty84-z9Xj"
      ],
      "include_colab_link": true
    },
    "kernelspec": {
      "name": "python3",
      "display_name": "Python 3"
    },
    "accelerator": "GPU"
  },
  "cells": [
    {
      "cell_type": "markdown",
      "metadata": {
        "id": "view-in-github",
        "colab_type": "text"
      },
      "source": [
        "<a href=\"https://colab.research.google.com/github/SESCDS/sescds/blob/master/Lesson8_PUBG_features.ipynb\" target=\"_parent\"><img src=\"https://colab.research.google.com/assets/colab-badge.svg\" alt=\"Open In Colab\"/></a>"
      ]
    },
    {
      "metadata": {
        "id": "QzEOVf1C1qCv",
        "colab_type": "text"
      },
      "cell_type": "markdown",
      "source": [
        "# PUBG Finish Placement Prediction (Kernels Only)\n",
        "https://www.kaggle.com/c/pubg-finish-placement-prediction"
      ]
    },
    {
      "metadata": {
        "id": "1MF_qDk_zbXO",
        "colab_type": "text"
      },
      "cell_type": "markdown",
      "source": [
        "![alt text](https://www.gamespark.jp/imgs/p/PseAHU_gq3GEwRLM5htwMwoLvAaDYAQDAgEA/258064.jpg)"
      ]
    },
    {
      "metadata": {
        "id": "Zch2rrC59bXW",
        "colab_type": "text"
      },
      "cell_type": "markdown",
      "source": [
        "## Скачайте kaggle.json и загрузите его в коллаб запустив ячейки ниже.\n",
        "![alt text](https://github.com/SESCDS/sescds/blob/master/Lesson7/data/img3.png?raw=true)"
      ]
    },
    {
      "metadata": {
        "id": "SzLP8GzTU120",
        "colab_type": "code",
        "colab": {}
      },
      "cell_type": "code",
      "source": [
        "# Run this cell and select the kaggle.json file downloaded\n",
        "# from the Kaggle account settings page.\n",
        "from google.colab import files\n",
        "files.upload()"
      ],
      "execution_count": 0,
      "outputs": []
    },
    {
      "metadata": {
        "id": "V0rpjMs8U8R7",
        "colab_type": "code",
        "colab": {}
      },
      "cell_type": "code",
      "source": [
        "# Next, install the Kaggle API client.\n",
        "!pip install -q kaggle"
      ],
      "execution_count": 0,
      "outputs": []
    },
    {
      "metadata": {
        "id": "uNL-RuLpVA9U",
        "colab_type": "code",
        "colab": {}
      },
      "cell_type": "code",
      "source": [
        "# The Kaggle API client expects this file to be in ~/.kaggle,\n",
        "# so move it there.\n",
        "!mkdir -p ~/.kaggle\n",
        "!cp kaggle.json ~/.kaggle/\n",
        "\n",
        "# This permissions change avoids a warning on Kaggle tool startup.\n",
        "!chmod 600 ~/.kaggle/kaggle.json"
      ],
      "execution_count": 0,
      "outputs": []
    },
    {
      "metadata": {
        "id": "mrFStodV4yRV",
        "colab_type": "code",
        "outputId": "623d3e09-86ad-4466-be3d-c36011a25bae",
        "colab": {
          "base_uri": "https://localhost:8080/",
          "height": 168
        }
      },
      "cell_type": "code",
      "source": [
        "!kaggle competitions download -c pubg-finish-placement-prediction"
      ],
      "execution_count": 4,
      "outputs": [
        {
          "output_type": "stream",
          "text": [
            "Downloading sample_submission_V2.csv.zip to /content\n",
            " 53% 9.00M/16.9M [00:00<00:00, 34.4MB/s]\n",
            "100% 16.9M/16.9M [00:00<00:00, 57.7MB/s]\n",
            "Downloading test_V2.csv.zip to /content\n",
            " 89% 87.0M/98.3M [00:00<00:00, 70.6MB/s]\n",
            "100% 98.3M/98.3M [00:00<00:00, 110MB/s] \n",
            "Downloading train_V2.csv.zip to /content\n",
            " 94% 224M/239M [00:02<00:00, 143MB/s]\n",
            "100% 239M/239M [00:02<00:00, 112MB/s]\n"
          ],
          "name": "stdout"
        }
      ]
    },
    {
      "metadata": {
        "id": "BBl7kP8HzrSk",
        "colab_type": "code",
        "colab": {}
      },
      "cell_type": "code",
      "source": [
        "import pandas as pd\n",
        "pd.options.display.max_columns = 999"
      ],
      "execution_count": 0,
      "outputs": []
    },
    {
      "metadata": {
        "id": "gEfey7Al-gQe",
        "colab_type": "text"
      },
      "cell_type": "markdown",
      "source": [
        "Если всё выше вы сделали правильно, то успешно считаете датасет и увидете первые его строки командой **head()**."
      ]
    },
    {
      "metadata": {
        "id": "V6pjUjCgzvwx",
        "colab_type": "code",
        "outputId": "d3b09572-7be6-49e7-8108-aeacf1f75fa2",
        "colab": {
          "base_uri": "https://localhost:8080/",
          "height": 50
        }
      },
      "cell_type": "code",
      "source": [
        "%%time\n",
        "train = pd.read_csv('train_V2.csv.zip', compression='zip')"
      ],
      "execution_count": 6,
      "outputs": [
        {
          "output_type": "stream",
          "text": [
            "CPU times: user 21.8 s, sys: 2.59 s, total: 24.4 s\n",
            "Wall time: 24.4 s\n"
          ],
          "name": "stdout"
        }
      ]
    },
    {
      "metadata": {
        "id": "hC4vCLzk-GNk",
        "colab_type": "code",
        "outputId": "bdb19a12-d11a-4d0a-b87e-c38e70b17b9f",
        "colab": {
          "base_uri": "https://localhost:8080/",
          "height": 215
        }
      },
      "cell_type": "code",
      "source": [
        "train.head()"
      ],
      "execution_count": 0,
      "outputs": [
        {
          "output_type": "execute_result",
          "data": {
            "text/html": [
              "<div>\n",
              "<style scoped>\n",
              "    .dataframe tbody tr th:only-of-type {\n",
              "        vertical-align: middle;\n",
              "    }\n",
              "\n",
              "    .dataframe tbody tr th {\n",
              "        vertical-align: top;\n",
              "    }\n",
              "\n",
              "    .dataframe thead th {\n",
              "        text-align: right;\n",
              "    }\n",
              "</style>\n",
              "<table border=\"1\" class=\"dataframe\">\n",
              "  <thead>\n",
              "    <tr style=\"text-align: right;\">\n",
              "      <th></th>\n",
              "      <th>Id</th>\n",
              "      <th>groupId</th>\n",
              "      <th>matchId</th>\n",
              "      <th>assists</th>\n",
              "      <th>boosts</th>\n",
              "      <th>damageDealt</th>\n",
              "      <th>DBNOs</th>\n",
              "      <th>headshotKills</th>\n",
              "      <th>heals</th>\n",
              "      <th>killPlace</th>\n",
              "      <th>killPoints</th>\n",
              "      <th>kills</th>\n",
              "      <th>killStreaks</th>\n",
              "      <th>longestKill</th>\n",
              "      <th>matchDuration</th>\n",
              "      <th>matchType</th>\n",
              "      <th>maxPlace</th>\n",
              "      <th>numGroups</th>\n",
              "      <th>rankPoints</th>\n",
              "      <th>revives</th>\n",
              "      <th>rideDistance</th>\n",
              "      <th>roadKills</th>\n",
              "      <th>swimDistance</th>\n",
              "      <th>teamKills</th>\n",
              "      <th>vehicleDestroys</th>\n",
              "      <th>walkDistance</th>\n",
              "      <th>weaponsAcquired</th>\n",
              "      <th>winPoints</th>\n",
              "      <th>winPlacePerc</th>\n",
              "    </tr>\n",
              "  </thead>\n",
              "  <tbody>\n",
              "    <tr>\n",
              "      <th>0</th>\n",
              "      <td>7f96b2f878858a</td>\n",
              "      <td>4d4b580de459be</td>\n",
              "      <td>a10357fd1a4a91</td>\n",
              "      <td>0</td>\n",
              "      <td>0</td>\n",
              "      <td>0.00</td>\n",
              "      <td>0</td>\n",
              "      <td>0</td>\n",
              "      <td>0</td>\n",
              "      <td>60</td>\n",
              "      <td>1241</td>\n",
              "      <td>0</td>\n",
              "      <td>0</td>\n",
              "      <td>0.00</td>\n",
              "      <td>1306</td>\n",
              "      <td>squad-fpp</td>\n",
              "      <td>28</td>\n",
              "      <td>26</td>\n",
              "      <td>-1</td>\n",
              "      <td>0</td>\n",
              "      <td>0.0000</td>\n",
              "      <td>0</td>\n",
              "      <td>0.00</td>\n",
              "      <td>0</td>\n",
              "      <td>0</td>\n",
              "      <td>244.80</td>\n",
              "      <td>1</td>\n",
              "      <td>1466</td>\n",
              "      <td>0.4444</td>\n",
              "    </tr>\n",
              "    <tr>\n",
              "      <th>1</th>\n",
              "      <td>eef90569b9d03c</td>\n",
              "      <td>684d5656442f9e</td>\n",
              "      <td>aeb375fc57110c</td>\n",
              "      <td>0</td>\n",
              "      <td>0</td>\n",
              "      <td>91.47</td>\n",
              "      <td>0</td>\n",
              "      <td>0</td>\n",
              "      <td>0</td>\n",
              "      <td>57</td>\n",
              "      <td>0</td>\n",
              "      <td>0</td>\n",
              "      <td>0</td>\n",
              "      <td>0.00</td>\n",
              "      <td>1777</td>\n",
              "      <td>squad-fpp</td>\n",
              "      <td>26</td>\n",
              "      <td>25</td>\n",
              "      <td>1484</td>\n",
              "      <td>0</td>\n",
              "      <td>0.0045</td>\n",
              "      <td>0</td>\n",
              "      <td>11.04</td>\n",
              "      <td>0</td>\n",
              "      <td>0</td>\n",
              "      <td>1434.00</td>\n",
              "      <td>5</td>\n",
              "      <td>0</td>\n",
              "      <td>0.6400</td>\n",
              "    </tr>\n",
              "    <tr>\n",
              "      <th>2</th>\n",
              "      <td>1eaf90ac73de72</td>\n",
              "      <td>6a4a42c3245a74</td>\n",
              "      <td>110163d8bb94ae</td>\n",
              "      <td>1</td>\n",
              "      <td>0</td>\n",
              "      <td>68.00</td>\n",
              "      <td>0</td>\n",
              "      <td>0</td>\n",
              "      <td>0</td>\n",
              "      <td>47</td>\n",
              "      <td>0</td>\n",
              "      <td>0</td>\n",
              "      <td>0</td>\n",
              "      <td>0.00</td>\n",
              "      <td>1318</td>\n",
              "      <td>duo</td>\n",
              "      <td>50</td>\n",
              "      <td>47</td>\n",
              "      <td>1491</td>\n",
              "      <td>0</td>\n",
              "      <td>0.0000</td>\n",
              "      <td>0</td>\n",
              "      <td>0.00</td>\n",
              "      <td>0</td>\n",
              "      <td>0</td>\n",
              "      <td>161.80</td>\n",
              "      <td>2</td>\n",
              "      <td>0</td>\n",
              "      <td>0.7755</td>\n",
              "    </tr>\n",
              "    <tr>\n",
              "      <th>3</th>\n",
              "      <td>4616d365dd2853</td>\n",
              "      <td>a930a9c79cd721</td>\n",
              "      <td>f1f1f4ef412d7e</td>\n",
              "      <td>0</td>\n",
              "      <td>0</td>\n",
              "      <td>32.90</td>\n",
              "      <td>0</td>\n",
              "      <td>0</td>\n",
              "      <td>0</td>\n",
              "      <td>75</td>\n",
              "      <td>0</td>\n",
              "      <td>0</td>\n",
              "      <td>0</td>\n",
              "      <td>0.00</td>\n",
              "      <td>1436</td>\n",
              "      <td>squad-fpp</td>\n",
              "      <td>31</td>\n",
              "      <td>30</td>\n",
              "      <td>1408</td>\n",
              "      <td>0</td>\n",
              "      <td>0.0000</td>\n",
              "      <td>0</td>\n",
              "      <td>0.00</td>\n",
              "      <td>0</td>\n",
              "      <td>0</td>\n",
              "      <td>202.70</td>\n",
              "      <td>3</td>\n",
              "      <td>0</td>\n",
              "      <td>0.1667</td>\n",
              "    </tr>\n",
              "    <tr>\n",
              "      <th>4</th>\n",
              "      <td>315c96c26c9aac</td>\n",
              "      <td>de04010b3458dd</td>\n",
              "      <td>6dc8ff871e21e6</td>\n",
              "      <td>0</td>\n",
              "      <td>0</td>\n",
              "      <td>100.00</td>\n",
              "      <td>0</td>\n",
              "      <td>0</td>\n",
              "      <td>0</td>\n",
              "      <td>45</td>\n",
              "      <td>0</td>\n",
              "      <td>1</td>\n",
              "      <td>1</td>\n",
              "      <td>58.53</td>\n",
              "      <td>1424</td>\n",
              "      <td>solo-fpp</td>\n",
              "      <td>97</td>\n",
              "      <td>95</td>\n",
              "      <td>1560</td>\n",
              "      <td>0</td>\n",
              "      <td>0.0000</td>\n",
              "      <td>0</td>\n",
              "      <td>0.00</td>\n",
              "      <td>0</td>\n",
              "      <td>0</td>\n",
              "      <td>49.75</td>\n",
              "      <td>2</td>\n",
              "      <td>0</td>\n",
              "      <td>0.1875</td>\n",
              "    </tr>\n",
              "  </tbody>\n",
              "</table>\n",
              "</div>"
            ],
            "text/plain": [
              "               Id         groupId         matchId  assists  boosts  \\\n",
              "0  7f96b2f878858a  4d4b580de459be  a10357fd1a4a91        0       0   \n",
              "1  eef90569b9d03c  684d5656442f9e  aeb375fc57110c        0       0   \n",
              "2  1eaf90ac73de72  6a4a42c3245a74  110163d8bb94ae        1       0   \n",
              "3  4616d365dd2853  a930a9c79cd721  f1f1f4ef412d7e        0       0   \n",
              "4  315c96c26c9aac  de04010b3458dd  6dc8ff871e21e6        0       0   \n",
              "\n",
              "   damageDealt  DBNOs  headshotKills  heals  killPlace  killPoints  kills  \\\n",
              "0         0.00      0              0      0         60        1241      0   \n",
              "1        91.47      0              0      0         57           0      0   \n",
              "2        68.00      0              0      0         47           0      0   \n",
              "3        32.90      0              0      0         75           0      0   \n",
              "4       100.00      0              0      0         45           0      1   \n",
              "\n",
              "   killStreaks  longestKill  matchDuration  matchType  maxPlace  numGroups  \\\n",
              "0            0         0.00           1306  squad-fpp        28         26   \n",
              "1            0         0.00           1777  squad-fpp        26         25   \n",
              "2            0         0.00           1318        duo        50         47   \n",
              "3            0         0.00           1436  squad-fpp        31         30   \n",
              "4            1        58.53           1424   solo-fpp        97         95   \n",
              "\n",
              "   rankPoints  revives  rideDistance  roadKills  swimDistance  teamKills  \\\n",
              "0          -1        0        0.0000          0          0.00          0   \n",
              "1        1484        0        0.0045          0         11.04          0   \n",
              "2        1491        0        0.0000          0          0.00          0   \n",
              "3        1408        0        0.0000          0          0.00          0   \n",
              "4        1560        0        0.0000          0          0.00          0   \n",
              "\n",
              "   vehicleDestroys  walkDistance  weaponsAcquired  winPoints  winPlacePerc  \n",
              "0                0        244.80                1       1466        0.4444  \n",
              "1                0       1434.00                5          0        0.6400  \n",
              "2                0        161.80                2          0        0.7755  \n",
              "3                0        202.70                3          0        0.1667  \n",
              "4                0         49.75                2          0        0.1875  "
            ]
          },
          "metadata": {
            "tags": []
          },
          "execution_count": 7
        }
      ]
    },
    {
      "metadata": {
        "id": "6a5M7Z8A7On0",
        "colab_type": "text"
      },
      "cell_type": "markdown",
      "source": [
        "Описание колонок:\n",
        "\n",
        "- **groupId** - Integer ID to identify a group within a match. If the same group of players plays in different matches, they will have a different groupId each time.\n",
        "- **matchId** - Integer ID to identify match. There are no matches that are in both the training and testing set.\n",
        "- **assists** - Number of enemy players this player damaged that were killed by teammates.\n",
        "- **boosts** - Number of boost items used.\n",
        "- **damageDealt** - Total damage dealt. Note: Self inflicted damage is subtracted.\n",
        "- **DBNOs** - Number of enemy players knocked.\n",
        "- **headshotKills** - Number of enemy players killed with headshots.\n",
        "- **heals** - Number of healing items used.\n",
        "- **killPlace** - Ranking in match of number of enemy players killed.\n",
        "- **killPoints** - Kills-based external ranking of player. (Think of this as an Elo ranking where only kills matter.)\n",
        "- **kills** - Number of enemy players killed.\n",
        "- **killStreaks** - Max number of enemy players killed in a short amount of time.\n",
        "- **longestKill** - Longest distance between player and player killed at time of death. This may be misleading, as downing a - player and driving away may lead to a large longestKill stat.\n",
        "- **maxPlace** - Worst placement we have data for in the match. This may not match with numGroups, as sometimes the data skips over placements.\n",
        "- **numGroups** - Number of groups we have data for in the match.\n",
        "- **revives** - Number of times this player revived teammates.\n",
        "- **rideDistance** - Total distance traveled in vehicles measured in meters.\n",
        "- **roadKills** - Number of kills while in a vehicle.\n",
        "- **swimDistance** - Total distance traveled by swimming measured in meters.\n",
        "- **teamKills** - Number of times this player killed a teammate.\n",
        "- **vehicleDestroys** - Number of vehicles destroyed.\n",
        "- **walkDistance** - Total distance traveled on foot measured in meters.\n",
        "- **weaponsAcquired** - Number of weapons picked up.\n",
        "- **winPoints** - Win-based external ranking of player. (Think of this as an Elo ranking where only winning matters.)\n",
        "- **winPlacePerc** - The target of prediction. This is a percentile winning placement, where 1 corresponds to 1st place, and 0 corresponds to last place in the match. It is calculated off of maxPlace, not numGroups, so it is possible to have missing chunks in a match."
      ]
    },
    {
      "metadata": {
        "id": "pbc9b6XlOVPu",
        "colab_type": "text"
      },
      "cell_type": "markdown",
      "source": [
        "## Считывание и подготовка данных"
      ]
    },
    {
      "metadata": {
        "id": "jl_enh_1J6yP",
        "colab_type": "code",
        "colab": {}
      },
      "cell_type": "code",
      "source": [
        "import pandas as pd\n",
        "import time\n",
        "from sklearn.model_selection import train_test_split"
      ],
      "execution_count": 0,
      "outputs": []
    },
    {
      "metadata": {
        "id": "8XuT4D9B1j8m",
        "colab_type": "code",
        "colab": {}
      },
      "cell_type": "code",
      "source": [
        "train = pd.read_csv('train_V2.csv.zip', compression='zip')"
      ],
      "execution_count": 0,
      "outputs": []
    },
    {
      "metadata": {
        "id": "1VbxR0se0dPq",
        "colab_type": "code",
        "colab": {}
      },
      "cell_type": "code",
      "source": [
        "orig_cols = train.columns"
      ],
      "execution_count": 0,
      "outputs": []
    },
    {
      "metadata": {
        "colab_type": "text",
        "id": "daWLP6iHqfvB"
      },
      "cell_type": "markdown",
      "source": [
        "Пустые поля в датасете очень мешают методам машинного обучения работать с данными. Можно с ними бороться так:"
      ]
    },
    {
      "metadata": {
        "id": "-_UcH6bNq9th",
        "colab_type": "code",
        "colab": {}
      },
      "cell_type": "code",
      "source": [
        "train.dropna(inplace = True)"
      ],
      "execution_count": 0,
      "outputs": []
    },
    {
      "metadata": {
        "id": "L36aPwvgrOKG",
        "colab_type": "code",
        "colab": {}
      },
      "cell_type": "code",
      "source": [
        "def original(df):\n",
        "    return df"
      ],
      "execution_count": 0,
      "outputs": []
    },
    {
      "metadata": {
        "id": "rzi5q1Djy70j",
        "colab_type": "code",
        "colab": {}
      },
      "cell_type": "code",
      "source": [
        "def total_distance(df):\n",
        "    df['total_distance'] = df['rideDistance'] + df['swimDistance'] + df['walkDistance']\n",
        "    return df"
      ],
      "execution_count": 0,
      "outputs": []
    },
    {
      "metadata": {
        "id": "amxbAtSNrxXY",
        "colab_type": "code",
        "colab": {}
      },
      "cell_type": "code",
      "source": [
        "def players_in_team(df):\n",
        "    df['players_in_team'] = df.groupby('groupId')['groupId'].transform('count')\n",
        "    return df"
      ],
      "execution_count": 0,
      "outputs": []
    },
    {
      "metadata": {
        "id": "2jsAwidgsNDc",
        "colab_type": "code",
        "colab": {}
      },
      "cell_type": "code",
      "source": [
        "from sklearn.linear_model import LinearRegression\n",
        "from sklearn.metrics import mean_absolute_error\n",
        "\n",
        "def run_experiment(preprocess):\n",
        "   \n",
        "    train_exp = train[orig_cols]\n",
        "    df_exp = preprocess(train_exp)\n",
        "\n",
        "    target = 'winPlacePerc'\n",
        "    cols_to_drop = ['Id', 'groupId', 'matchId', 'matchType', target]\n",
        "    cols_to_fit = [col for col in df_exp.columns if col not in cols_to_drop]\n",
        "    \n",
        "    X_train, X_test, y_train, y_test = train_test_split(train_exp.drop('winPlacePerc', axis=1),\n",
        "                                                    train_exp['winPlacePerc'],\n",
        "                                                    test_size=0.2,\n",
        "                                                    random_state=42)\n",
        "    \n",
        "    model = LinearRegression()\n",
        "    model.fit(X_train[cols_to_fit], y_train)\n",
        "    \n",
        "    y_pred = model.predict(X_test[cols_to_fit])\n",
        "    return mean_absolute_error(y_test, y_pred)\n",
        "\n",
        "def run_experiments(preprocesses):\n",
        "    results = []\n",
        "    for preprocess in preprocesses:\n",
        "        start = time.time()\n",
        "        score = run_experiment(preprocess)\n",
        "        execution_time = time.time() - start\n",
        "        results.append({\n",
        "            'name': preprocess.__name__,\n",
        "            'score': score,\n",
        "            'execution time': f'{round(execution_time, 2)}s'\n",
        "        })\n",
        "        \n",
        "    return pd.DataFrame(results, columns=['name', 'score', 'execution time']).sort_values(by='score')"
      ],
      "execution_count": 0,
      "outputs": []
    },
    {
      "metadata": {
        "id": "SN-lLn4HvZK2",
        "colab_type": "code",
        "colab": {
          "base_uri": "https://localhost:8080/",
          "height": 136
        },
        "outputId": "89526159-6a34-4427-dc7d-43bbea566607"
      },
      "cell_type": "code",
      "source": [
        "run_experiments([\n",
        "    original,players_in_team, total_distance])"
      ],
      "execution_count": 9,
      "outputs": [
        {
          "output_type": "execute_result",
          "data": {
            "text/html": [
              "<div>\n",
              "<style scoped>\n",
              "    .dataframe tbody tr th:only-of-type {\n",
              "        vertical-align: middle;\n",
              "    }\n",
              "\n",
              "    .dataframe tbody tr th {\n",
              "        vertical-align: top;\n",
              "    }\n",
              "\n",
              "    .dataframe thead th {\n",
              "        text-align: right;\n",
              "    }\n",
              "</style>\n",
              "<table border=\"1\" class=\"dataframe\">\n",
              "  <thead>\n",
              "    <tr style=\"text-align: right;\">\n",
              "      <th></th>\n",
              "      <th>name</th>\n",
              "      <th>score</th>\n",
              "      <th>execution time</th>\n",
              "    </tr>\n",
              "  </thead>\n",
              "  <tbody>\n",
              "    <tr>\n",
              "      <th>1</th>\n",
              "      <td>players_in_team</td>\n",
              "      <td>0.091600</td>\n",
              "      <td>23.32s</td>\n",
              "    </tr>\n",
              "    <tr>\n",
              "      <th>0</th>\n",
              "      <td>original</td>\n",
              "      <td>0.092592</td>\n",
              "      <td>15.83s</td>\n",
              "    </tr>\n",
              "    <tr>\n",
              "      <th>2</th>\n",
              "      <td>total_distance</td>\n",
              "      <td>0.092593</td>\n",
              "      <td>14.83s</td>\n",
              "    </tr>\n",
              "  </tbody>\n",
              "</table>\n",
              "</div>"
            ],
            "text/plain": [
              "              name     score execution time\n",
              "1  players_in_team  0.091600         23.32s\n",
              "0         original  0.092592         15.83s\n",
              "2   total_distance  0.092593         14.83s"
            ]
          },
          "metadata": {
            "tags": []
          },
          "execution_count": 9
        }
      ]
    },
    {
      "metadata": {
        "id": "YgncfDv02SNV",
        "colab_type": "code",
        "colab": {
          "base_uri": "https://localhost:8080/",
          "height": 34
        },
        "outputId": "8d34a051-e0b0-46b5-fea7-2cf71dda4205"
      },
      "cell_type": "code",
      "source": [
        "run_experiment(players_in_team)"
      ],
      "execution_count": 9,
      "outputs": [
        {
          "output_type": "execute_result",
          "data": {
            "text/plain": [
              "0.0916003481692193"
            ]
          },
          "metadata": {
            "tags": []
          },
          "execution_count": 9
        }
      ]
    },
    {
      "metadata": {
        "id": "d3L_Zvov3-n4",
        "colab_type": "code",
        "colab": {
          "base_uri": "https://localhost:8080/",
          "height": 34
        },
        "outputId": "a0815333-18db-481c-d082-b52161c85caf"
      },
      "cell_type": "code",
      "source": [
        "run_experiment(total_distance)"
      ],
      "execution_count": 11,
      "outputs": [
        {
          "output_type": "execute_result",
          "data": {
            "text/plain": [
              "0.09259335276874997"
            ]
          },
          "metadata": {
            "tags": []
          },
          "execution_count": 11
        }
      ]
    },
    {
      "metadata": {
        "id": "5GmyxLaN4OBq",
        "colab_type": "code",
        "colab": {}
      },
      "cell_type": "code",
      "source": [
        ""
      ],
      "execution_count": 0,
      "outputs": []
    }
  ]
}
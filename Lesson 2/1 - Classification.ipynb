{
 "cells": [
  {
   "cell_type": "markdown",
   "metadata": {},
   "source": [
    "# Задача классификации\n",
    "\n",
    "Очень часто постановка задачи машиного обучения следующая:     \n",
    "**Написать программу, которая отвечает \"Да\" или \"Нет\"** --- то есть, относит каждый объект к положительному (\"**Да**\" или \"**1**\") либо к отрицательному (\"**Нет**\" или \"**0**\") классу.     \n",
    "В общем случае, задача, когда надо отнести объект к одному из $n$ классов, называется задачей классификации.      \n",
    "\n",
    "Далее мы будем работать с уже знакомым вам датасетом из прошлого ноутбука (файл **dataset.csv**).      \n",
    "#### Задание 1: \n",
    "Импортируйте библиотеку pandas, прочитайте датасет в переменную df и выведите первые пять строчек"
   ]
  },
  {
   "cell_type": "code",
   "execution_count": null,
   "metadata": {},
   "outputs": [],
   "source": []
  },
  {
   "cell_type": "code",
   "execution_count": 2,
   "metadata": {},
   "outputs": [
    {
     "data": {
      "text/html": [
       "<div>\n",
       "<style scoped>\n",
       "    .dataframe tbody tr th:only-of-type {\n",
       "        vertical-align: middle;\n",
       "    }\n",
       "\n",
       "    .dataframe tbody tr th {\n",
       "        vertical-align: top;\n",
       "    }\n",
       "\n",
       "    .dataframe thead th {\n",
       "        text-align: right;\n",
       "    }\n",
       "</style>\n",
       "<table border=\"1\" class=\"dataframe\">\n",
       "  <thead>\n",
       "    <tr style=\"text-align: right;\">\n",
       "      <th></th>\n",
       "      <th>Gender</th>\n",
       "      <th>Height</th>\n",
       "      <th>Weight</th>\n",
       "    </tr>\n",
       "  </thead>\n",
       "  <tbody>\n",
       "    <tr>\n",
       "      <th>0</th>\n",
       "      <td>Male</td>\n",
       "      <td>187.571423</td>\n",
       "      <td>109.720985</td>\n",
       "    </tr>\n",
       "    <tr>\n",
       "      <th>1</th>\n",
       "      <td>Male</td>\n",
       "      <td>174.706036</td>\n",
       "      <td>73.622732</td>\n",
       "    </tr>\n",
       "    <tr>\n",
       "      <th>2</th>\n",
       "      <td>Male</td>\n",
       "      <td>188.239668</td>\n",
       "      <td>96.497550</td>\n",
       "    </tr>\n",
       "    <tr>\n",
       "      <th>3</th>\n",
       "      <td>Male</td>\n",
       "      <td>182.196685</td>\n",
       "      <td>99.809504</td>\n",
       "    </tr>\n",
       "    <tr>\n",
       "      <th>4</th>\n",
       "      <td>Male</td>\n",
       "      <td>177.499762</td>\n",
       "      <td>93.598619</td>\n",
       "    </tr>\n",
       "  </tbody>\n",
       "</table>\n",
       "</div>"
      ],
      "text/plain": [
       "  Gender      Height      Weight\n",
       "0   Male  187.571423  109.720985\n",
       "1   Male  174.706036   73.622732\n",
       "2   Male  188.239668   96.497550\n",
       "3   Male  182.196685   99.809504\n",
       "4   Male  177.499762   93.598619"
      ]
     },
     "execution_count": 2,
     "metadata": {},
     "output_type": "execute_result"
    }
   ],
   "source": [
    "df.head()"
   ]
  },
  {
   "cell_type": "markdown",
   "metadata": {},
   "source": [
    "Как можно заметить, в этом файле каждый человек описывается тремя взаимосвязанными параметрами. В прошлый раз мы строили зависимость веса от роста, и использовали пол, как способ улучшить нашу модель.        \n",
    "\n",
    "А теперь давайте попробуем угадать пол человека по его росту и весу. \n",
    "\n",
    "Существует масса алгоритмом классификации. Вот краткий перечень основных групп:\n",
    "1. Линейные. Мы о них обязательно еще поговорим подробно. Пока только отмечу, что их суть: проведение такой линии (в случае двумерного пространства это линия, в случае многомерного -- гиперплоскость), что объекты одного класса окажутся по одну сторону от этой линии, объекты другого -- по другую. \n",
    "2. Метрические. Самый простой способ объяснить людям, далеким от мира computer science (по-русски: информатики), что же такое \"машинное обучение\". Если мы хотим построить предсказание для нового объекта, мы ищем самый похожий на него из тех, что мы уже видели. И возвращаем ту же метку класса. Если Вася мужского пола и весит 100 кг при росте 2метра, то, наверное, этот неизвестный нам человек с весом 103 кг и ростом 195 см -- тоже мужского пола. Несмотря на свою простоту, эти алгоритмы иногда оказываются на удивление эффективными. \n",
    "3. Логические. Пытаются выделить из данных некую закономерность.\n",
    "\n",
    "В будущем, нам предстоит очень много работать с логическими алгоритмами, точнее, с их подклассом -- алгоритмами, основанными на решающих деревьях. На сегодняшний день, эти алгоритмы являются самыми сильными для многих случаев.      \n",
    "Ну, и раз уж они основаны на решающих деревьях, то мы начнем с обучения одного решающего дерева.       \n",
    "\n",
    "Импортируем нужный нам модуль:"
   ]
  },
  {
   "cell_type": "code",
   "execution_count": 4,
   "metadata": {},
   "outputs": [],
   "source": [
    "from sklearn.tree import DecisionTreeClassifier"
   ]
  },
  {
   "cell_type": "markdown",
   "metadata": {},
   "source": [
    "#### Задание 2: \n",
    "Перед обучением, датасет нужно приготовить: превратить столбец **Gender** в столбец из нулей и единиц. Или сделать новый столбец.      \n",
    "В прошлом ноутбуке вы это уже делали, повторите сейчас. И выведите первые пять строчек нового датасета."
   ]
  },
  {
   "cell_type": "code",
   "execution_count": 5,
   "metadata": {},
   "outputs": [
    {
     "data": {
      "text/html": [
       "<div>\n",
       "<style scoped>\n",
       "    .dataframe tbody tr th:only-of-type {\n",
       "        vertical-align: middle;\n",
       "    }\n",
       "\n",
       "    .dataframe tbody tr th {\n",
       "        vertical-align: top;\n",
       "    }\n",
       "\n",
       "    .dataframe thead th {\n",
       "        text-align: right;\n",
       "    }\n",
       "</style>\n",
       "<table border=\"1\" class=\"dataframe\">\n",
       "  <thead>\n",
       "    <tr style=\"text-align: right;\">\n",
       "      <th></th>\n",
       "      <th>Gender</th>\n",
       "      <th>Height</th>\n",
       "      <th>Weight</th>\n",
       "    </tr>\n",
       "  </thead>\n",
       "  <tbody>\n",
       "    <tr>\n",
       "      <th>0</th>\n",
       "      <td>1</td>\n",
       "      <td>187.571423</td>\n",
       "      <td>109.720985</td>\n",
       "    </tr>\n",
       "    <tr>\n",
       "      <th>1</th>\n",
       "      <td>1</td>\n",
       "      <td>174.706036</td>\n",
       "      <td>73.622732</td>\n",
       "    </tr>\n",
       "    <tr>\n",
       "      <th>2</th>\n",
       "      <td>1</td>\n",
       "      <td>188.239668</td>\n",
       "      <td>96.497550</td>\n",
       "    </tr>\n",
       "    <tr>\n",
       "      <th>3</th>\n",
       "      <td>1</td>\n",
       "      <td>182.196685</td>\n",
       "      <td>99.809504</td>\n",
       "    </tr>\n",
       "    <tr>\n",
       "      <th>4</th>\n",
       "      <td>1</td>\n",
       "      <td>177.499762</td>\n",
       "      <td>93.598619</td>\n",
       "    </tr>\n",
       "  </tbody>\n",
       "</table>\n",
       "</div>"
      ],
      "text/plain": [
       "   Gender      Height      Weight\n",
       "0       1  187.571423  109.720985\n",
       "1       1  174.706036   73.622732\n",
       "2       1  188.239668   96.497550\n",
       "3       1  182.196685   99.809504\n",
       "4       1  177.499762   93.598619"
      ]
     },
     "execution_count": 5,
     "metadata": {},
     "output_type": "execute_result"
    }
   ],
   "source": []
  },
  {
   "cell_type": "markdown",
   "metadata": {},
   "source": [
    "Отлично, датасет подготовлен. Сформируем матрицу признаков и положим ее в переменную X:"
   ]
  },
  {
   "cell_type": "code",
   "execution_count": 23,
   "metadata": {},
   "outputs": [
    {
     "data": {
      "text/html": [
       "<div>\n",
       "<style scoped>\n",
       "    .dataframe tbody tr th:only-of-type {\n",
       "        vertical-align: middle;\n",
       "    }\n",
       "\n",
       "    .dataframe tbody tr th {\n",
       "        vertical-align: top;\n",
       "    }\n",
       "\n",
       "    .dataframe thead th {\n",
       "        text-align: right;\n",
       "    }\n",
       "</style>\n",
       "<table border=\"1\" class=\"dataframe\">\n",
       "  <thead>\n",
       "    <tr style=\"text-align: right;\">\n",
       "      <th></th>\n",
       "      <th>Height</th>\n",
       "      <th>Weight</th>\n",
       "    </tr>\n",
       "  </thead>\n",
       "  <tbody>\n",
       "    <tr>\n",
       "      <th>0</th>\n",
       "      <td>187.571423</td>\n",
       "      <td>109.720985</td>\n",
       "    </tr>\n",
       "    <tr>\n",
       "      <th>1</th>\n",
       "      <td>174.706036</td>\n",
       "      <td>73.622732</td>\n",
       "    </tr>\n",
       "    <tr>\n",
       "      <th>2</th>\n",
       "      <td>188.239668</td>\n",
       "      <td>96.497550</td>\n",
       "    </tr>\n",
       "    <tr>\n",
       "      <th>3</th>\n",
       "      <td>182.196685</td>\n",
       "      <td>99.809504</td>\n",
       "    </tr>\n",
       "    <tr>\n",
       "      <th>4</th>\n",
       "      <td>177.499762</td>\n",
       "      <td>93.598619</td>\n",
       "    </tr>\n",
       "  </tbody>\n",
       "</table>\n",
       "</div>"
      ],
      "text/plain": [
       "       Height      Weight\n",
       "0  187.571423  109.720985\n",
       "1  174.706036   73.622732\n",
       "2  188.239668   96.497550\n",
       "3  182.196685   99.809504\n",
       "4  177.499762   93.598619"
      ]
     },
     "execution_count": 23,
     "metadata": {},
     "output_type": "execute_result"
    }
   ],
   "source": [
    "X = df[['Height', 'Weight']]\n",
    "\n",
    "X.head()"
   ]
  },
  {
   "cell_type": "markdown",
   "metadata": {},
   "source": [
    "И вектор целевой переменной"
   ]
  },
  {
   "cell_type": "code",
   "execution_count": 24,
   "metadata": {},
   "outputs": [
    {
     "data": {
      "text/plain": [
       "0    1\n",
       "1    1\n",
       "2    1\n",
       "3    1\n",
       "4    1\n",
       "Name: Gender, dtype: int64"
      ]
     },
     "execution_count": 24,
     "metadata": {},
     "output_type": "execute_result"
    }
   ],
   "source": [
    "y = df[df.columns[df.dtypes != object].drop(['Height', 'Weight'])[0]]\n",
    "\n",
    "y.head()"
   ]
  },
  {
   "cell_type": "markdown",
   "metadata": {},
   "source": [
    "Небольшой оффтоп: что за магия скрывается за командой из предыдущей ячейки?      \n",
    "Более интересный вопрос: как вообще читать подобные многоэтажные команды?       \n",
    "Попробую на него ответить: начинаем ее разворачивать. Смотрим на каждый уровень, начиная с самого верхнего и постепенно опускаясь в подробности:\n",
    "* **y = df[**df.columns[df.dtypes != object].drop(['Height', 'Weight'])[0]**]** -- берем некий столбец (или столбцы) из датафрейма df и кладем его/их в переменную y\n",
    "* df.columns[df.dtypes != object].drop(['Height', 'Weight'])**[0]** -- берем нулевой (т.е. первый по счету) элемент чего-то (какого-то списка или другого контейнера)\n",
    "* df.columns[df.dtypes != object]**.drop(['Height', 'Weight'])** -- гуглим, что же делает функция drop, понимаем, что на этом этапе мы выбросили из какого-то pandas-контейнера элементы 'Height', 'Weight'.\n",
    "* df.columns**[df.dtypes != object]** -- гуглим, что такое df.columns, понимаем, что это просто список (на самом деле, не список, а некий pandas-контейнер) столбцов. Поскольку он является частью библиотеки pandas, он поддерживает много идентичных команд. В том числе, и выбор элементов по логическому условию. Что мы и сделали. \n",
    "* **df.dtypes != object** -- гуглим, что такое df.dtypes и что такое object. Узнаем следующее: **df.dtypes** -- команда, возвращающая типы переменных в столбцах датафрейма. Работает не особо информативно, все нечисловые типы обозначает как **object**. Возвращает pandas-столбец (он называется Series) с названиями столбцов в качестве индексов. \n",
    "\n",
    "Итак, мы берем список столбцов, выкидываем все, которые содержат нечисловые значения, после чего выкидываем столбцы 'Height', 'Weight'. От получившегося списка столбцов берем самый первый. И кладем этот столбец в переменную y.        \n",
    "Для чего такая команда: я не знал, как вы назовете новый (или преобразованный) столбец, в котором вместо 'Male' и 'Female' стоят единицы и нули, поэтому написал команду, которая сработает в любом случае (хотя если вы перед нужным столбцом создадите какой-нибудь ненужный столбец из непонятно каких чисел, команда положит в переменную y именно этот ненужный столбец)"
   ]
  },
  {
   "cell_type": "markdown",
   "metadata": {},
   "source": [
    "Возвращаемся к Data Science.     \n",
    "\n",
    "Обучим, наконец, наше дерево:"
   ]
  },
  {
   "cell_type": "code",
   "execution_count": 25,
   "metadata": {},
   "outputs": [
    {
     "data": {
      "text/plain": [
       "DecisionTreeClassifier(class_weight=None, criterion='gini', max_depth=None,\n",
       "            max_features=None, max_leaf_nodes=None,\n",
       "            min_impurity_decrease=0.0, min_impurity_split=None,\n",
       "            min_samples_leaf=1, min_samples_split=2,\n",
       "            min_weight_fraction_leaf=0.0, presort=False, random_state=None,\n",
       "            splitter='best')"
      ]
     },
     "execution_count": 25,
     "metadata": {},
     "output_type": "execute_result"
    }
   ],
   "source": [
    "tree = DecisionTreeClassifier()\n",
    "tree.fit(X, y)"
   ]
  },
  {
   "cell_type": "markdown",
   "metadata": {},
   "source": [
    "#### Задание 3: \n",
    "Получите вектор предсказаний модели на матрице объектов X и положите его в переменную y_pred"
   ]
  },
  {
   "cell_type": "code",
   "execution_count": 26,
   "metadata": {},
   "outputs": [],
   "source": []
  },
  {
   "cell_type": "markdown",
   "metadata": {},
   "source": [
    "Оценим точность модели. Существуют разные способы это сделать, мы сейчас воспользуемся самым простым: метрикой accuracy. Она считается по следующей формуле:\n",
    "$$\n",
    "accuracy = \\frac{1}{n}\\sum_{i=1}^{n}\\mathbf{I}(y\\_pred_i == y_i )\n",
    "$$\n",
    "где:\n",
    "$$\n",
    "\\mathbf{I}(A) = \n",
    "\\left\\{\\begin{matrix} \n",
    "1, \\text{если А истинно}, \\\\\n",
    "0, \\text{если А ложно},\n",
    "\\end{matrix}\\right.\n",
    "$$\n",
    "\n",
    "То есть, это просто доля правильно угаданных ответов"
   ]
  },
  {
   "cell_type": "markdown",
   "metadata": {},
   "source": [
    "#### Задание 4: \n",
    "Посчитайте эту метрику.      \n",
    "Положите ее в переменную accuracy"
   ]
  },
  {
   "cell_type": "code",
   "execution_count": null,
   "metadata": {},
   "outputs": [],
   "source": []
  },
  {
   "cell_type": "code",
   "execution_count": 32,
   "metadata": {},
   "outputs": [
    {
     "data": {
      "text/plain": [
       "1.0"
      ]
     },
     "execution_count": 32,
     "metadata": {},
     "output_type": "execute_result"
    }
   ],
   "source": [
    "accuracy"
   ]
  },
  {
   "cell_type": "markdown",
   "metadata": {},
   "source": [
    "Получили 100% точность. То есть, решающее дерево дало правильный ответ во всех случаях.     \n",
    "Все, мы нашли идеальный алгоритм.        \n",
    ".        \n",
    ".        \n",
    ".        \n",
    ".        \n",
    ".        \n",
    ".        \n",
    ".        \n",
    ".        \n",
    ".        \n",
    ".        \n",
    ".        \n",
    ".        \n",
    ".        \n",
    ".        \n",
    ".        \n",
    ".        \n",
    ".        \n",
    ".        \n",
    ".        \n",
    ".        \n",
    ".        \n",
    ".        \n",
    ".        \n",
    ".        \n",
    ".        \n",
    ".        \n",
    ".        \n",
    ".        \n",
    ".        \n",
    ".        \n",
    ".        \n",
    ".        \n",
    ".        \n",
    ".        \n",
    ".        \n",
    ".        \n",
    ".        \n",
    ".        \n",
    ".        \n",
    ".        \n",
    ".        \n",
    ".        \n",
    ".        \n",
    ".        \n",
    ".        \n",
    ".        \n",
    ".        \n",
    ".        \n",
    ".        \n",
    ".        \n",
    ".        \n",
    ".        \n",
    ".        \n",
    ".        \n",
    "Курс закончен, расходимся =)           \n",
    ".        \n",
    ".        \n",
    ".        \n",
    ".        \n",
    ".        \n",
    ".        \n",
    ".        \n",
    ".        \n",
    ".        \n",
    ".        \n",
    ".        \n",
    ".        \n",
    ".        \n",
    ".        \n",
    ".        \n",
    ".        \n",
    ".        \n",
    ".        \n",
    ".        \n",
    ".        \n",
    ".        \n",
    ".        \n",
    ".        \n",
    ".        \n",
    ".        \n",
    ".        \n",
    ".        \n",
    ".        \n",
    ".        \n",
    ".        \n",
    ".        \n",
    ".        \n",
    ".        \n",
    ".        \n",
    ".        \n",
    ".        \n",
    ".        \n",
    ".        \n",
    ".        \n",
    ".        \n",
    ".        \n",
    ".        \n",
    ".        \n",
    ".        \n",
    ".        \n",
    ".        \n",
    ".        \n",
    ".        \n",
    ".        \n",
    ".        \n",
    ".        \n",
    ".        \n",
    ".        \n",
    ".        \n",
    ".        \n",
    ".        \n",
    ".        \n",
    ".        \n",
    ".        \n",
    ".        \n",
    ".        \n",
    ".        \n",
    ".        \n",
    ".        \n",
    ".        \n",
    ".        \n",
    ".        \n",
    ".        \n",
    ".        \n",
    ".        \n",
    ".        \n",
    ".        \n",
    ".        \n",
    ".        \n",
    ".        \n",
    ".        \n",
    ".        \n",
    ".        \n",
    ".        \n",
    ".        \n",
    ".        \n",
    "\n",
    ".        \n",
    ".        \n",
    ".        \n",
    ".        \n",
    ".        \n",
    ".        \n",
    ".        \n",
    ".        \n",
    ".        \n",
    "Ладно, тут есть подвох.        \n",
    "Подвох заключается в том, что мы проверили точность алгоритма на тех же данных, на которых мы его и обучили. Точность 100% означает лишь, что он заучил все эти данные.       \n",
    "Как же тогда проверить качество алгоритма?\n",
    ".        \n",
    ".        \n",
    ".        \n",
    ".        \n",
    ".        \n",
    ".        \n",
    ".        \n",
    ".        \n",
    ".        \n",
    ".        \n",
    ".        \n",
    ".        \n",
    ".        \n",
    ".        \n",
    ".        \n",
    ".        \n",
    ".        \n",
    ".        \n",
    ".        \n",
    ".        \n",
    ".        \n",
    ".        \n",
    ".        \n",
    ".        \n",
    ".        \n",
    ".        \n",
    ".        \n",
    ".        \n",
    ".        \n",
    ".        \n",
    ".        \n",
    ".        \n",
    ".        \n",
    ".        \n",
    ".        \n",
    ".        \n",
    ".        \n",
    ".        \n",
    ".        \n",
    ".        \n",
    ".        \n",
    ".        \n",
    ".        \n",
    ".        \n",
    ".        \n",
    ".        \n",
    ".        \n",
    ".        \n",
    ".        \n",
    ".        \n",
    ".        \n",
    ".        \n",
    ".        \n",
    ".        \n",
    ".        \n",
    "Об этом -- в следующем ноутбуке! Не переключайтесь!           \n",
    "Шутка, переключитесь ненадолго и решите простую задачку по программированию:           \n",
    "#### Задание 5: \n",
    "Задача \"Secret message\" с сайта checkio.org:          \n",
    "<div style=\"text-align: right\"> \n",
    "\"Где умный человек прячет лист? В лесу. Но что если леса нет? ... Он выращивает лес и прячет его там.\" \n",
    "Гилберт Кит Честертон\n",
    "</div>\n",
    "\n",
    "\n",
    "Когда-нибудь пробовали отправить секретное сообщение кому-то не пользуясь услугами почты? Вы можете использовать газету, чтобы рассказать кому-то свой секрет. Даже если кто-то найдет ваше сообщение, легко отмахнуться и сказать что это паранойя и теория заговора. Один из самых простых способов спрятать ваше секретное сообщение это использовать заглавные буквы. Давайте найдем несколько таких секретных сообщений.\n",
    "\n",
    "Дан кусок текста. Соберите все заглавные буквы в одно слово в том порядке как они встречаются в куске текста.\n",
    "\n",
    "Например: текст = \"**H**ow are you? **E**h, ok. **L**ow or **L**ower? **O**hhh.\", если мы соберем все заглавные буквы, то получим сообщение \"**HELLO**\".\n",
    "\n",
    "\n",
    "**Входные данные:** Текст как строка (юникод).         \n",
    "**Выходные данные:** Секретное сообщение как строка или пустая строка.     \n",
    "\n"
   ]
  },
  {
   "cell_type": "code",
   "execution_count": 33,
   "metadata": {},
   "outputs": [],
   "source": [
    "def find_message(text):\n",
    "    return 'my answer'"
   ]
  },
  {
   "cell_type": "code",
   "execution_count": 34,
   "metadata": {},
   "outputs": [
    {
     "ename": "AssertionError",
     "evalue": "hello",
     "output_type": "error",
     "traceback": [
      "\u001b[0;31m---------------------------------------------------------------------------\u001b[0m",
      "\u001b[0;31mAssertionError\u001b[0m                            Traceback (most recent call last)",
      "\u001b[0;32m<ipython-input-34-57fb52b3f412>\u001b[0m in \u001b[0;36m<module>\u001b[0;34m()\u001b[0m\n\u001b[0;32m----> 1\u001b[0;31m \u001b[0;32massert\u001b[0m \u001b[0mfind_message\u001b[0m\u001b[0;34m(\u001b[0m\u001b[0;34m\"How are you? Eh, ok. Low or Lower? Ohhh.\"\u001b[0m\u001b[0;34m)\u001b[0m \u001b[0;34m==\u001b[0m \u001b[0;34m\"HELLO\"\u001b[0m\u001b[0;34m,\u001b[0m \u001b[0;34m\"hello\"\u001b[0m\u001b[0;34m\u001b[0m\u001b[0m\n\u001b[0m\u001b[1;32m      2\u001b[0m \u001b[0;32massert\u001b[0m \u001b[0mfind_message\u001b[0m\u001b[0;34m(\u001b[0m\u001b[0;34m\"hello world!\"\u001b[0m\u001b[0;34m)\u001b[0m \u001b[0;34m==\u001b[0m \u001b[0;34m\"\"\u001b[0m\u001b[0;34m,\u001b[0m \u001b[0;34m\"Nothing\"\u001b[0m\u001b[0;34m\u001b[0m\u001b[0m\n\u001b[1;32m      3\u001b[0m \u001b[0;32massert\u001b[0m \u001b[0mfind_message\u001b[0m\u001b[0;34m(\u001b[0m\u001b[0;34m\"HELLO WORLD!!!\"\u001b[0m\u001b[0;34m)\u001b[0m \u001b[0;34m==\u001b[0m \u001b[0;34m\"HELLOWORLD\"\u001b[0m\u001b[0;34m,\u001b[0m \u001b[0;34m\"Capitals\"\u001b[0m\u001b[0;34m\u001b[0m\u001b[0m\n",
      "\u001b[0;31mAssertionError\u001b[0m: hello"
     ]
    }
   ],
   "source": [
    "assert find_message(\"How are you? Eh, ok. Low or Lower? Ohhh.\") == \"HELLO\", \"hello\"\n",
    "assert find_message(\"hello world!\") == \"\", \"Nothing\"\n",
    "assert find_message(\"HELLO WORLD!!!\") == \"HELLOWORLD\", \"Capitals\""
   ]
  },
  {
   "cell_type": "code",
   "execution_count": null,
   "metadata": {},
   "outputs": [],
   "source": []
  }
 ],
 "metadata": {
  "kernelspec": {
   "display_name": "Python 3",
   "language": "python",
   "name": "python3"
  },
  "language_info": {
   "codemirror_mode": {
    "name": "ipython",
    "version": 3
   },
   "file_extension": ".py",
   "mimetype": "text/x-python",
   "name": "python",
   "nbconvert_exporter": "python",
   "pygments_lexer": "ipython3",
   "version": "3.7.0"
  }
 },
 "nbformat": 4,
 "nbformat_minor": 2
}

{
  "nbformat": 4,
  "nbformat_minor": 0,
  "metadata": {
    "colab": {
      "name": "Lesson4.ipynb",
      "version": "0.3.2",
      "provenance": []
    },
    "kernelspec": {
      "display_name": "Python 3",
      "language": "python",
      "name": "python3"
    }
  },
  "cells": [
    {
      "metadata": {
        "id": "2zUMGKe6EGYJ",
        "colab_type": "code",
        "colab": {}
      },
      "cell_type": "code",
      "source": [
        "import numpy as np\n",
        "import pandas as pd\n",
        "from matplotlib import pyplot as plt"
      ],
      "execution_count": 0,
      "outputs": []
    },
    {
      "metadata": {
        "id": "p6NFvg1cEGYR",
        "colab_type": "text"
      },
      "cell_type": "markdown",
      "source": [
        "# Подготовка данных"
      ]
    },
    {
      "metadata": {
        "id": "oUwliMqrEGYU",
        "colab_type": "code",
        "colab": {}
      },
      "cell_type": "code",
      "source": [
        "train = pd.read_csv('https://raw.githubusercontent.com/SESCDS/sescds/master/Lesson3/train.csv')\n",
        "test = pd.read_csv(\"https://raw.githubusercontent.com/SESCDS/sescds/master/Lesson3/test.csv\")"
      ],
      "execution_count": 0,
      "outputs": []
    },
    {
      "metadata": {
        "id": "6loRA-sUEGYX",
        "colab_type": "code",
        "colab": {}
      },
      "cell_type": "code",
      "source": [
        "train['is_test'] = False\n",
        "test['is_test'] = True\n",
        "test['Survived'] = True\n",
        "data = pd.concat([train, test])"
      ],
      "execution_count": 0,
      "outputs": []
    },
    {
      "metadata": {
        "id": "t45MIzhXEGYc",
        "colab_type": "code",
        "colab": {}
      },
      "cell_type": "code",
      "source": [
        "data['Title'] = data['Name'].str.split(\", \", expand=True)[1].str.split(\".\", expand=True)[0]\n",
        "title = {'Mr':'Mr', 'Mrs':'Mrs', 'Miss':'Miss', 'Master':'Master', 'Don':'Royal', 'Rev':'Royal', 'Dr':'Dr', 'Mme':'Royal',\n",
        "        'Ms':'Miss', 'Major':'Royal', 'Lady':'Royal', 'Sir':'Royal', 'Mlle':'Miss', 'Col':'Royal', 'Capt':'Royal',\n",
        "        'the Countess':'Royal', 'Jonkheer':'Royal', 'Dona':'Royal'}\n",
        "data['Title'] = data['Title'].map(title)"
      ],
      "execution_count": 0,
      "outputs": []
    },
    {
      "metadata": {
        "id": "hOV87jOFEGYg",
        "colab_type": "code",
        "colab": {}
      },
      "cell_type": "code",
      "source": [
        "cat_vars = ['Cabin', 'Embarked', 'Title', 'Pclass', 'Sex']\n",
        "for var in cat_vars: data[var] = data[var].astype('category').cat.codes"
      ],
      "execution_count": 0,
      "outputs": []
    },
    {
      "metadata": {
        "id": "-tdyau1BEGYk",
        "colab_type": "code",
        "colab": {}
      },
      "cell_type": "code",
      "source": [
        "data['Age'] = data['Age'].fillna(data['Age'].median())"
      ],
      "execution_count": 0,
      "outputs": []
    },
    {
      "metadata": {
        "id": "DhkrzC5IEGYo",
        "colab_type": "code",
        "colab": {}
      },
      "cell_type": "code",
      "source": [
        "data['Fare'] = data['Fare'].fillna(data['Fare'].median())"
      ],
      "execution_count": 0,
      "outputs": []
    },
    {
      "metadata": {
        "id": "bj0irm6hEGYt",
        "colab_type": "code",
        "colab": {}
      },
      "cell_type": "code",
      "source": [
        "train = data[~data['is_test']]\n",
        "test = data[data['is_test']]"
      ],
      "execution_count": 0,
      "outputs": []
    },
    {
      "metadata": {
        "id": "_wCa0L_DEGYx",
        "colab_type": "code",
        "colab": {}
      },
      "cell_type": "code",
      "source": [
        "drop_columns = ['Name', 'Ticket', 'is_test','Survived']\n",
        "features = data.columns.difference(drop_columns)"
      ],
      "execution_count": 0,
      "outputs": []
    },
    {
      "metadata": {
        "id": "wRt_R7rtEGY2",
        "colab_type": "text"
      },
      "cell_type": "markdown",
      "source": [
        "# Разбиение на тренировочную/тестовую выборки"
      ]
    },
    {
      "metadata": {
        "id": "UAU7ny9WEGY4",
        "colab_type": "text"
      },
      "cell_type": "markdown",
      "source": [
        "Как вы помните, при построении модели у нас есть две основных проблемы: недообучение и переобучение (*что это?*). Чтобы их избежать, нужно оценить модель. Самы простой способ для этого - разбить данные на трейн и тест, обучить модель на трейне и проверить на тесте. Раньше вы загружали предсказания по тесту, чтобы получить результат, но можно воспользоваться тем, что есть на руках :)"
      ]
    },
    {
      "metadata": {
        "id": "JvaJ-O_XEGY5",
        "colab_type": "code",
        "colab": {}
      },
      "cell_type": "code",
      "source": [
        "from sklearn.model_selection import train_test_split\n",
        "from sklearn.tree import DecisionTreeClassifier\n",
        "from sklearn.metrics import accuracy_score"
      ],
      "execution_count": 0,
      "outputs": []
    },
    {
      "metadata": {
        "id": "iMpLfk0GEGY9",
        "colab_type": "code",
        "colab": {}
      },
      "cell_type": "code",
      "source": [
        "X = train[features]\n",
        "y = train['Survived']"
      ],
      "execution_count": 0,
      "outputs": []
    },
    {
      "metadata": {
        "id": "NS3Mcz2KEGZD",
        "colab_type": "code",
        "outputId": "c1c3cf3f-8f6b-4d69-e6c8-555eff3187e9",
        "colab": {
          "base_uri": "https://localhost:8080/",
          "height": 50
        }
      },
      "cell_type": "code",
      "source": [
        "X_train, X_test, y_train, y_test = train_test_split(X, y, test_size=0.3)\n",
        "print(X_train.shape, y_train.shape)\n",
        "print(X_test.shape, y_test.shape)"
      ],
      "execution_count": 13,
      "outputs": [
        {
          "output_type": "stream",
          "text": [
            "(623, 10) (623,)\n",
            "(268, 10) (268,)\n"
          ],
          "name": "stdout"
        }
      ]
    },
    {
      "metadata": {
        "id": "3DN-iqRSEGZN",
        "colab_type": "code",
        "outputId": "510557e1-cee7-4f36-b550-122a1d374286",
        "colab": {
          "base_uri": "https://localhost:8080/",
          "height": 50
        }
      },
      "cell_type": "code",
      "source": [
        "model_tree = DecisionTreeClassifier()\n",
        "model_tree.fit(X_train, y_train)\n",
        "print('Train acc:', model_tree.score(X_train, y_train))\n",
        "print('Test acc:', model_tree.score(X_test, y_test))"
      ],
      "execution_count": 14,
      "outputs": [
        {
          "output_type": "stream",
          "text": [
            "Train acc: 1.0\n",
            "Test acc: 0.75\n"
          ],
          "name": "stdout"
        }
      ]
    },
    {
      "metadata": {
        "id": "BZX-5wP2EGZS",
        "colab_type": "text"
      },
      "cell_type": "markdown",
      "source": [
        "*Результат хуже, чем на прошлом уроке. Почему?*\n",
        "*Как зависит результат от параметра test_size? Почему?*"
      ]
    },
    {
      "metadata": {
        "id": "WJLwiSsbEGZU",
        "colab_type": "text"
      },
      "cell_type": "markdown",
      "source": [
        "# Подбор параметров"
      ]
    },
    {
      "metadata": {
        "id": "ZH8QHDArEGZV",
        "colab_type": "text"
      },
      "cell_type": "markdown",
      "source": [
        "Посмотрим на модель. У нее много параметров, а мы оставили все по умолчанию. Попробуйте изменять их. Посмотрим, удастся ли улучшить результат."
      ]
    },
    {
      "metadata": {
        "id": "YaP6h2WdEGZX",
        "colab_type": "code",
        "outputId": "fe4b9961-e68b-4b1e-f09a-1672de057d12",
        "colab": {
          "base_uri": "https://localhost:8080/",
          "height": 118
        }
      },
      "cell_type": "code",
      "source": [
        "model_tree"
      ],
      "execution_count": 15,
      "outputs": [
        {
          "output_type": "execute_result",
          "data": {
            "text/plain": [
              "DecisionTreeClassifier(class_weight=None, criterion='gini', max_depth=None,\n",
              "            max_features=None, max_leaf_nodes=None,\n",
              "            min_impurity_decrease=0.0, min_impurity_split=None,\n",
              "            min_samples_leaf=1, min_samples_split=2,\n",
              "            min_weight_fraction_leaf=0.0, presort=False, random_state=None,\n",
              "            splitter='best')"
            ]
          },
          "metadata": {
            "tags": []
          },
          "execution_count": 15
        }
      ]
    },
    {
      "metadata": {
        "id": "Xzlzhkw0EGZc",
        "colab_type": "code",
        "colab": {
          "base_uri": "https://localhost:8080/",
          "height": 50
        },
        "outputId": "eafe7f37-805c-478a-f33d-efae09a88486"
      },
      "cell_type": "code",
      "source": [
        "model_tree = DecisionTreeClassifier()\n",
        "model_tree.fit(X_train, y_train)\n",
        "print('Train acc:', model_tree.score(X_train, y_train))\n",
        "print('Test acc:', model_tree.score(X_test, y_test))"
      ],
      "execution_count": 16,
      "outputs": [
        {
          "output_type": "stream",
          "text": [
            "Train acc: 1.0\n",
            "Test acc: 0.7611940298507462\n"
          ],
          "name": "stdout"
        }
      ]
    },
    {
      "metadata": {
        "id": "Zsrq44gWEGZk",
        "colab_type": "text"
      },
      "cell_type": "markdown",
      "source": [
        "# Кросс-валидация"
      ]
    },
    {
      "metadata": {
        "id": "WkWuUVUzEGZl",
        "colab_type": "text"
      },
      "cell_type": "markdown",
      "source": [
        "Логичное развитие метода разбиения на трейн и тест - повторить его несколько раз и усреднить результаты!"
      ]
    },
    {
      "metadata": {
        "id": "k7UbJjceEGZo",
        "colab_type": "text"
      },
      "cell_type": "markdown",
      "source": [
        "<img src=\"http://www.feiguyunai.com/wp-content/uploads/2018/09/ec9f62166bc64ced29f84034f5556159.png\">"
      ]
    },
    {
      "metadata": {
        "id": "jgMeXNgmEGZr",
        "colab_type": "code",
        "colab": {}
      },
      "cell_type": "code",
      "source": [
        "from sklearn.model_selection import cross_val_score"
      ],
      "execution_count": 0,
      "outputs": []
    },
    {
      "metadata": {
        "id": "b3zdPAGmEGZ7",
        "colab_type": "code",
        "colab": {}
      },
      "cell_type": "code",
      "source": [
        "from sklearn.model_selection import ShuffleSplit"
      ],
      "execution_count": 0,
      "outputs": []
    },
    {
      "metadata": {
        "id": "Xcj3aZ3pEGZx",
        "colab_type": "code",
        "outputId": "93593b72-7bb7-4c1a-a895-5da58e6ff4ff",
        "colab": {
          "base_uri": "https://localhost:8080/",
          "height": 34
        }
      },
      "cell_type": "code",
      "source": [
        "cv = ShuffleSplit(n_splits=5, random_state=None)\n",
        "cross_val_score(model_tree, X, y, cv=5)"
      ],
      "execution_count": 20,
      "outputs": [
        {
          "output_type": "execute_result",
          "data": {
            "text/plain": [
              "array([0.62569832, 0.75977654, 0.79213483, 0.80337079, 0.7740113 ])"
            ]
          },
          "metadata": {
            "tags": []
          },
          "execution_count": 20
        }
      ]
    },
    {
      "metadata": {
        "id": "oZqCSeAMEGZ6",
        "colab_type": "text"
      },
      "cell_type": "markdown",
      "source": [
        "В данном случае выборка не перемешивается, и мы видим, как различаются результаты в зависимости от расположения в данных.\n",
        "Попробуем перемешать"
      ]
    },
    {
      "metadata": {
        "id": "S994SQUKEGaA",
        "colab_type": "code",
        "outputId": "fc370582-8b12-4bed-9e51-dc4e33a64862",
        "colab": {
          "base_uri": "https://localhost:8080/",
          "height": 34
        }
      },
      "cell_type": "code",
      "source": [
        "cv = ShuffleSplit(n_splits=5, random_state=0)\n",
        "cross_val_score(model_tree, X, y, cv=cv)"
      ],
      "execution_count": 28,
      "outputs": [
        {
          "output_type": "execute_result",
          "data": {
            "text/plain": [
              "array([0.7       , 0.68888889, 0.81111111, 0.78888889, 0.73333333])"
            ]
          },
          "metadata": {
            "tags": []
          },
          "execution_count": 28
        }
      ]
    },
    {
      "metadata": {
        "id": "zojTTXEsEGaF",
        "colab_type": "text"
      },
      "cell_type": "markdown",
      "source": [
        "Стало чуть ровнее, но разброс всё еще большой. Результаты предсказаний сильно зависят от разбиения (*почему?*)\n",
        "\n",
        "Посмотрите на результаты кросс-валидации для вашей модели"
      ]
    },
    {
      "metadata": {
        "id": "bIwSHTVwEGaI",
        "colab_type": "text"
      },
      "cell_type": "markdown",
      "source": [
        "# Ансамбли"
      ]
    },
    {
      "metadata": {
        "id": "SEuAhKXZEGaI",
        "colab_type": "text"
      },
      "cell_type": "markdown",
      "source": [
        "А что если попробовать обучить несколько деревьев на части данных, а потом результаты усреднить?"
      ]
    },
    {
      "metadata": {
        "id": "S3gpew4rEGaJ",
        "colab_type": "text"
      },
      "cell_type": "markdown",
      "source": [
        "В цикле обучайте модель на части наблюдений, делайте предсказания и сохраняйте результаты в массив. В другой массив сохраняйте метрику (сделайте два массива - трейн и тест). После завершения цикла возьмите среднее от предсказаний всех деревьев и посчитайте для него метрику. Сравните со средней метрикой по одиночным деревьям."
      ]
    },
    {
      "metadata": {
        "id": "OUVQUFQZEGaL",
        "colab_type": "code",
        "outputId": "ac5091ab-c81b-4eaa-b946-22755ed6e278",
        "colab": {
          "base_uri": "https://localhost:8080/",
          "height": 34
        }
      },
      "cell_type": "code",
      "source": [
        "# так можно делать выборку\n",
        "X_train_tmp = X_train.sample(frac=0.7)\n",
        "model_tree.fit(X_train_tmp, y_train[X_train_tmp.index])\n",
        "pr = model_tree.predict(X_test)\n",
        "\n",
        "accuracy_score(pr, y_test)"
      ],
      "execution_count": 29,
      "outputs": [
        {
          "output_type": "execute_result",
          "data": {
            "text/plain": [
              "0.7238805970149254"
            ]
          },
          "metadata": {
            "tags": []
          },
          "execution_count": 29
        }
      ]
    },
    {
      "metadata": {
        "id": "bHNiFcdiEGaQ",
        "colab_type": "code",
        "colab": {}
      },
      "cell_type": "code",
      "source": [
        ""
      ],
      "execution_count": 0,
      "outputs": []
    },
    {
      "metadata": {
        "id": "j5RaBhUKEGaT",
        "colab_type": "code",
        "colab": {}
      },
      "cell_type": "code",
      "source": [
        ""
      ],
      "execution_count": 0,
      "outputs": []
    },
    {
      "metadata": {
        "id": "hN70-ME4EGaW",
        "colab_type": "code",
        "colab": {}
      },
      "cell_type": "code",
      "source": [
        ""
      ],
      "execution_count": 0,
      "outputs": []
    },
    {
      "metadata": {
        "id": "BhDB1JJhEGab",
        "colab_type": "code",
        "colab": {}
      },
      "cell_type": "code",
      "source": [
        ""
      ],
      "execution_count": 0,
      "outputs": []
    },
    {
      "metadata": {
        "id": "JDfdGtO1EGaf",
        "colab_type": "code",
        "colab": {}
      },
      "cell_type": "code",
      "source": [
        ""
      ],
      "execution_count": 0,
      "outputs": []
    },
    {
      "metadata": {
        "id": "kNuQg456EGaj",
        "colab_type": "code",
        "colab": {}
      },
      "cell_type": "code",
      "source": [
        ""
      ],
      "execution_count": 0,
      "outputs": []
    },
    {
      "metadata": {
        "id": "Y_l4bzY6EGap",
        "colab_type": "code",
        "colab": {}
      },
      "cell_type": "code",
      "source": [
        ""
      ],
      "execution_count": 0,
      "outputs": []
    },
    {
      "metadata": {
        "id": "FmIE_cuZEGas",
        "colab_type": "code",
        "colab": {}
      },
      "cell_type": "code",
      "source": [
        ""
      ],
      "execution_count": 0,
      "outputs": []
    },
    {
      "metadata": {
        "id": "fEVy9zfIEGay",
        "colab_type": "code",
        "colab": {}
      },
      "cell_type": "code",
      "source": [
        ""
      ],
      "execution_count": 0,
      "outputs": []
    },
    {
      "metadata": {
        "id": "QS9g4FukEGa2",
        "colab_type": "code",
        "colab": {}
      },
      "cell_type": "code",
      "source": [
        ""
      ],
      "execution_count": 0,
      "outputs": []
    },
    {
      "metadata": {
        "id": "iae1F7yLEGa5",
        "colab_type": "code",
        "colab": {}
      },
      "cell_type": "code",
      "source": [
        ""
      ],
      "execution_count": 0,
      "outputs": []
    },
    {
      "metadata": {
        "id": "5O8khKdfEGa_",
        "colab_type": "code",
        "colab": {}
      },
      "cell_type": "code",
      "source": [
        ""
      ],
      "execution_count": 0,
      "outputs": []
    },
    {
      "metadata": {
        "id": "kEzqHpp4EGbD",
        "colab_type": "code",
        "colab": {}
      },
      "cell_type": "code",
      "source": [
        ""
      ],
      "execution_count": 0,
      "outputs": []
    },
    {
      "metadata": {
        "id": "mTCAGo2eEGbH",
        "colab_type": "code",
        "colab": {}
      },
      "cell_type": "code",
      "source": [
        ""
      ],
      "execution_count": 0,
      "outputs": []
    },
    {
      "metadata": {
        "id": "Fz3X6gCqEGbL",
        "colab_type": "code",
        "colab": {}
      },
      "cell_type": "code",
      "source": [
        ""
      ],
      "execution_count": 0,
      "outputs": []
    },
    {
      "metadata": {
        "id": "IsVyq5h_EGbP",
        "colab_type": "code",
        "colab": {}
      },
      "cell_type": "code",
      "source": [
        ""
      ],
      "execution_count": 0,
      "outputs": []
    },
    {
      "metadata": {
        "id": "F0UOeN5bEGbX",
        "colab_type": "code",
        "colab": {}
      },
      "cell_type": "code",
      "source": [
        ""
      ],
      "execution_count": 0,
      "outputs": []
    },
    {
      "metadata": {
        "id": "Rg3M9sLzEGbf",
        "colab_type": "code",
        "colab": {}
      },
      "cell_type": "code",
      "source": [
        ""
      ],
      "execution_count": 0,
      "outputs": []
    },
    {
      "metadata": {
        "id": "9xSwdbpvEGbk",
        "colab_type": "code",
        "colab": {}
      },
      "cell_type": "code",
      "source": [
        ""
      ],
      "execution_count": 0,
      "outputs": []
    },
    {
      "metadata": {
        "id": "9IUhuqKAEGbm",
        "colab_type": "code",
        "colab": {}
      },
      "cell_type": "code",
      "source": [
        ""
      ],
      "execution_count": 0,
      "outputs": []
    },
    {
      "metadata": {
        "id": "wnn8f5qwEGbp",
        "colab_type": "code",
        "colab": {}
      },
      "cell_type": "code",
      "source": [
        ""
      ],
      "execution_count": 0,
      "outputs": []
    },
    {
      "metadata": {
        "id": "G_Os8JKzEGbr",
        "colab_type": "text"
      },
      "cell_type": "markdown",
      "source": [
        "То, что мы сейчас сделали, называется случайным лесом - это уже очень сильный алгоритм, который хорошо защищен от главной проблемы деревьев - переобучения. Домашнее задание - изучите RandomForestClassifier, подберите параметры с помощью кросс-валидации и сделайте сабмит на Kaggle."
      ]
    }
  ]
}
{
  "nbformat": 4,
  "nbformat_minor": 0,
  "metadata": {
    "colab": {
      "name": "Lesson 5.ipynb",
      "version": "0.3.2",
      "provenance": [],
      "collapsed_sections": [],
      "include_colab_link": true
    },
    "kernelspec": {
      "name": "python3",
      "display_name": "Python 3"
    }
  },
  "cells": [
    {
      "cell_type": "markdown",
      "metadata": {
        "id": "view-in-github",
        "colab_type": "text"
      },
      "source": [
        "<a href=\"https://colab.research.google.com/github/SESCDS/sescds/blob/master/Part%202/Lesson%205/Lesson_5.ipynb\" target=\"_parent\"><img src=\"https://colab.research.google.com/assets/colab-badge.svg\" alt=\"Open In Colab\"/></a>"
      ]
    },
    {
      "metadata": {
        "id": "togRID1sWLKd",
        "colab_type": "code",
        "colab": {}
      },
      "cell_type": "code",
      "source": [
        "# Импорт библиотек и установка random_seed - параметра, который обеспечит воспроизводимость случайных чисел\n",
        "import torch\n",
        "import numpy as np\n",
        "from torch.utils.data import Dataset, DataLoader\n",
        "from torch import nn, optim\n",
        "import matplotlib.pyplot as plt\n",
        "torch.manual_seed(1)\n",
        "\n",
        "import torchvision\n",
        "import torchvision.transforms as transforms"
      ],
      "execution_count": 0,
      "outputs": []
    },
    {
      "metadata": {
        "id": "TEGXE6tvWfU7",
        "colab_type": "code",
        "colab": {
          "base_uri": "https://localhost:8080/",
          "height": 51
        },
        "outputId": "dc34b5c5-5f8a-4a54-ef3b-ccad0a1f24a0"
      },
      "cell_type": "code",
      "source": [
        "transform = transforms.Compose(\n",
        "    [transforms.ToTensor(),\n",
        "     transforms.Normalize((0.5, 0.5, 0.5), (0.5, 0.5, 0.5))])\n",
        "bs = 64\n",
        "\n",
        "trainset = torchvision.datasets.CIFAR10(root='./data', train=True,\n",
        "                                        download=True, transform=transform)\n",
        "trainloader = DataLoader(trainset, batch_size=bs,\n",
        "                                          shuffle=True, num_workers=2)\n",
        "\n",
        "testset = torchvision.datasets.CIFAR10(root='./data', train=False,\n",
        "                                       download=True, transform=transform)\n",
        "testloader = DataLoader(testset, batch_size=bs,\n",
        "                                         shuffle=False, num_workers=2)\n",
        "\n",
        "classes = ('plane', 'car', 'bird', 'cat',\n",
        "           'deer', 'dog', 'frog', 'horse', 'ship', 'truck')"
      ],
      "execution_count": 2,
      "outputs": [
        {
          "output_type": "stream",
          "text": [
            "\r0it [00:00, ?it/s]"
          ],
          "name": "stderr"
        },
        {
          "output_type": "stream",
          "text": [
            "Downloading https://www.cs.toronto.edu/~kriz/cifar-10-python.tar.gz to ./data/cifar-10-python.tar.gz\n"
          ],
          "name": "stdout"
        },
        {
          "output_type": "stream",
          "text": [
            "100%|█████████▉| 170467328/170498071 [04:27<00:00, 536672.90it/s]"
          ],
          "name": "stderr"
        },
        {
          "output_type": "stream",
          "text": [
            "Files already downloaded and verified\n"
          ],
          "name": "stdout"
        }
      ]
    },
    {
      "metadata": {
        "id": "9qO4CDlnWfss",
        "colab_type": "code",
        "colab": {}
      },
      "cell_type": "code",
      "source": [
        "class ConvNet(nn.Module):\n",
        "    def __init__(self, num_classes=10):\n",
        "        super(ConvNet, self).__init__()\n",
        "        \n",
        "        self.layer1 = nn.Sequential(\n",
        "            nn.Conv2d(3, 16, kernel_size=5, stride=1, padding=2),\n",
        "            #nn.BatchNorm2d(16),\n",
        "            nn.ReLU(),\n",
        "            nn.MaxPool2d(kernel_size=2, stride=2))\n",
        "        \n",
        "        self.layer2 = nn.Sequential(\n",
        "            nn.Conv2d(16, 32, kernel_size=5, stride=1, padding=2),\n",
        "            #nn.BatchNorm2d(32),\n",
        "            nn.ReLU(),\n",
        "            nn.MaxPool2d(kernel_size=2, stride=2))\n",
        "        \n",
        "        self.fc = nn.Linear(8*8*32, num_classes)\n",
        "        \n",
        "    def forward(self, x):\n",
        "        out = self.layer1(x)\n",
        "        out = self.layer2(out)\n",
        "        out = out.reshape(out.size(0), -1)\n",
        "        out = self.fc(out)\n",
        "        return out\n",
        "\n",
        "image_clf = ConvNet()\n",
        "criterion = nn.CrossEntropyLoss()\n",
        "optimizer = optim.SGD(image_clf.parameters(), lr=0.001, momentum=0.9)"
      ],
      "execution_count": 0,
      "outputs": []
    },
    {
      "metadata": {
        "id": "TPf6-UZ8Wf1j",
        "colab_type": "code",
        "colab": {
          "base_uri": "https://localhost:8080/",
          "height": 34
        },
        "outputId": "2f65b1de-5c32-4f25-f2d4-e79ed7fc121a"
      },
      "cell_type": "code",
      "source": [
        "def train(model, num_epochs):\n",
        "  \n",
        "  for epoch in range(num_epochs):  # loop over the dataset multiple times\n",
        "    running_loss = 0.0\n",
        "    for i, data in enumerate(trainloader, 0):\n",
        "        # get the inputs\n",
        "        inputs, labels = data\n",
        "\n",
        "        # zero the parameter gradients\n",
        "        optimizer.zero_grad()\n",
        "\n",
        "        # forward + backward + optimize\n",
        "        outputs = model(inputs)\n",
        "        loss = criterion(outputs, labels)\n",
        "        loss.backward()\n",
        "        optimizer.step()\n",
        "\n",
        "        # print statistics\n",
        "        running_loss += loss.item()\n",
        "        if i % 50 == 49:    # print every 2000 mini-batches\n",
        "            print('[%d, %5d] loss: %.3f' %\n",
        "                  (epoch + 1, i + 1, running_loss / 50))\n",
        "            running_loss = 0.0\n",
        "\n",
        "print('Finished Training')"
      ],
      "execution_count": 4,
      "outputs": [
        {
          "output_type": "stream",
          "text": [
            "Finished Training\n"
          ],
          "name": "stdout"
        }
      ]
    },
    {
      "metadata": {
        "id": "ARX2IkjdXlxx",
        "colab_type": "code",
        "colab": {}
      },
      "cell_type": "code",
      "source": [
        "def validate(model):\n",
        "  correct = 0\n",
        "  total = 0\n",
        "  with torch.no_grad():\n",
        "      for data in testloader:\n",
        "          images, labels = data\n",
        "          outputs = model(images)\n",
        "          _, predicted = torch.max(outputs.data, 1)\n",
        "          total += labels.size(0)\n",
        "          correct += (predicted == labels).sum().item()\n",
        "\n",
        "  print('Accuracy of the network on the 10000 test images: %d %%' % (\n",
        "      100 * correct / total))"
      ],
      "execution_count": 0,
      "outputs": []
    },
    {
      "metadata": {
        "id": "ZQE8DiCSYXWR",
        "colab_type": "code",
        "colab": {
          "base_uri": "https://localhost:8080/",
          "height": 1037
        },
        "outputId": "1b62093f-7c99-4c68-f4fc-e32f2591aa7d"
      },
      "cell_type": "code",
      "source": [
        "btrain(image_clf, 4)"
      ],
      "execution_count": 6,
      "outputs": [
        {
          "output_type": "stream",
          "text": [
            "[1,    50] loss: 2.290\n",
            "[1,   100] loss: 2.249\n",
            "[1,   150] loss: 2.157\n",
            "[1,   200] loss: 2.063\n",
            "[1,   250] loss: 1.995\n",
            "[1,   300] loss: 1.970\n",
            "[1,   350] loss: 1.928\n",
            "[1,   400] loss: 1.875\n",
            "[1,   450] loss: 1.861\n",
            "[1,   500] loss: 1.820\n",
            "[1,   550] loss: 1.816\n",
            "[1,   600] loss: 1.772\n",
            "[1,   650] loss: 1.754\n",
            "[1,   700] loss: 1.754\n",
            "[1,   750] loss: 1.717\n",
            "[2,    50] loss: 1.687\n",
            "[2,   100] loss: 1.642\n",
            "[2,   150] loss: 1.615\n",
            "[2,   200] loss: 1.595\n",
            "[2,   250] loss: 1.591\n",
            "[2,   300] loss: 1.571\n",
            "[2,   350] loss: 1.540\n",
            "[2,   400] loss: 1.530\n",
            "[2,   450] loss: 1.503\n",
            "[2,   500] loss: 1.533\n",
            "[2,   550] loss: 1.487\n",
            "[2,   600] loss: 1.519\n",
            "[2,   650] loss: 1.464\n",
            "[2,   700] loss: 1.478\n",
            "[2,   750] loss: 1.483\n",
            "[3,    50] loss: 1.443\n",
            "[3,   100] loss: 1.438\n",
            "[3,   150] loss: 1.398\n",
            "[3,   200] loss: 1.425\n",
            "[3,   250] loss: 1.381\n",
            "[3,   300] loss: 1.407\n",
            "[3,   350] loss: 1.415\n",
            "[3,   400] loss: 1.400\n",
            "[3,   450] loss: 1.386\n",
            "[3,   500] loss: 1.379\n",
            "[3,   550] loss: 1.398\n",
            "[3,   600] loss: 1.393\n",
            "[3,   650] loss: 1.356\n",
            "[3,   700] loss: 1.337\n",
            "[3,   750] loss: 1.356\n",
            "[4,    50] loss: 1.339\n",
            "[4,   100] loss: 1.352\n",
            "[4,   150] loss: 1.301\n",
            "[4,   200] loss: 1.338\n",
            "[4,   250] loss: 1.298\n",
            "[4,   300] loss: 1.309\n",
            "[4,   350] loss: 1.295\n",
            "[4,   400] loss: 1.291\n",
            "[4,   450] loss: 1.290\n",
            "[4,   500] loss: 1.288\n",
            "[4,   550] loss: 1.298\n",
            "[4,   600] loss: 1.270\n",
            "[4,   650] loss: 1.283\n",
            "[4,   700] loss: 1.291\n",
            "[4,   750] loss: 1.225\n"
          ],
          "name": "stdout"
        }
      ]
    },
    {
      "metadata": {
        "id": "bBuADPEQkmOL",
        "colab_type": "code",
        "colab": {
          "base_uri": "https://localhost:8080/",
          "height": 34
        },
        "outputId": "ae1b5ee1-77de-469b-920a-bbbe2c018da8"
      },
      "cell_type": "code",
      "source": [
        "validate(image_clf)"
      ],
      "execution_count": 9,
      "outputs": [
        {
          "output_type": "stream",
          "text": [
            "Accuracy of the network on the 10000 test images: 54 %\n"
          ],
          "name": "stdout"
        }
      ]
    },
    {
      "metadata": {
        "id": "pw1T_2vUYuby",
        "colab_type": "text"
      },
      "cell_type": "markdown",
      "source": [
        "<h1>Домашнее задание</h1>\n",
        "\n",
        "Поэкспериментируйте с размерами фильтров и количеством слоев. Как меняется скорость и точность обучения в зависимости от этих параметров?"
      ]
    },
    {
      "metadata": {
        "id": "PaFHCM_glD-u",
        "colab_type": "code",
        "colab": {}
      },
      "cell_type": "code",
      "source": [
        ""
      ],
      "execution_count": 0,
      "outputs": []
    }
  ]
}
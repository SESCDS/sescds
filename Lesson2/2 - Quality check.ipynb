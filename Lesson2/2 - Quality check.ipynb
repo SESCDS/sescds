{
 "cells": [
  {
   "cell_type": "markdown",
   "metadata": {},
   "source": [
    "# Проверка качества алгоритма\n",
    "Итак, в прошлом ноутбуке мы обучили классификатор так, чтобы он давал 100% точность на той выборке, на которой мы его учили. Того же результата можно было добиться, не строя никаких алгоритмов, а просто сохранив в памяти компьютера выборку.       \n",
    "Так что же нужно сделать, чтобы проверить качество алгоритма машинного обучения?          \n",
    "Правильно, дать ему данные, которые он еще не видел, и посмотреть, как он себя поведет на них. \n",
    "\n",
    "#### Задание 1:\n",
    "Прочитайте те же данные и сформируйте матрицу объектов **X** и вектор целевой переменной **y** аналогично предыдущему ноутбуку"
   ]
  },
  {
   "cell_type": "code",
   "execution_count": null,
   "metadata": {},
   "outputs": [],
   "source": []
  },
  {
   "cell_type": "code",
   "execution_count": 3,
   "metadata": {},
   "outputs": [
    {
     "data": {
      "text/html": [
       "<div>\n",
       "<style scoped>\n",
       "    .dataframe tbody tr th:only-of-type {\n",
       "        vertical-align: middle;\n",
       "    }\n",
       "\n",
       "    .dataframe tbody tr th {\n",
       "        vertical-align: top;\n",
       "    }\n",
       "\n",
       "    .dataframe thead th {\n",
       "        text-align: right;\n",
       "    }\n",
       "</style>\n",
       "<table border=\"1\" class=\"dataframe\">\n",
       "  <thead>\n",
       "    <tr style=\"text-align: right;\">\n",
       "      <th></th>\n",
       "      <th>Height</th>\n",
       "      <th>Weight</th>\n",
       "    </tr>\n",
       "  </thead>\n",
       "  <tbody>\n",
       "    <tr>\n",
       "      <th>0</th>\n",
       "      <td>187.571423</td>\n",
       "      <td>109.720985</td>\n",
       "    </tr>\n",
       "    <tr>\n",
       "      <th>1</th>\n",
       "      <td>174.706036</td>\n",
       "      <td>73.622732</td>\n",
       "    </tr>\n",
       "    <tr>\n",
       "      <th>2</th>\n",
       "      <td>188.239668</td>\n",
       "      <td>96.497550</td>\n",
       "    </tr>\n",
       "    <tr>\n",
       "      <th>3</th>\n",
       "      <td>182.196685</td>\n",
       "      <td>99.809504</td>\n",
       "    </tr>\n",
       "    <tr>\n",
       "      <th>4</th>\n",
       "      <td>177.499762</td>\n",
       "      <td>93.598619</td>\n",
       "    </tr>\n",
       "  </tbody>\n",
       "</table>\n",
       "</div>"
      ],
      "text/plain": [
       "       Height      Weight\n",
       "0  187.571423  109.720985\n",
       "1  174.706036   73.622732\n",
       "2  188.239668   96.497550\n",
       "3  182.196685   99.809504\n",
       "4  177.499762   93.598619"
      ]
     },
     "execution_count": 3,
     "metadata": {},
     "output_type": "execute_result"
    }
   ],
   "source": [
    "X.head()"
   ]
  },
  {
   "cell_type": "code",
   "execution_count": 4,
   "metadata": {},
   "outputs": [
    {
     "data": {
      "text/plain": [
       "0    1\n",
       "1    1\n",
       "2    1\n",
       "3    1\n",
       "4    1\n",
       "Name: Gender, dtype: int64"
      ]
     },
     "execution_count": 4,
     "metadata": {},
     "output_type": "execute_result"
    }
   ],
   "source": [
    "y.head()"
   ]
  },
  {
   "cell_type": "markdown",
   "metadata": {},
   "source": [
    "А теперь мы сделаем кое-что новое: разобьем **X** и **y** на ** *обучающую* ** и ** *отложенную* ** выборку.      \n",
    "Отложим, скажем, 30% всех объектов.       \n",
    "#### Задание 2:\n",
    "Сделайте это.       \n",
    "Назовите новые переменные **X_train, X_test, y_train, y_test **       \n",
    "Можно воспользоваться функцией train_test_split() из библиотеки sklearn      \n",
    "Или просто сделайте slice -- то есть, команду вида:\n",
    "* X[:10] -- вернет первые 10 строк датафрейма X\n",
    "* X[-10:] -- вернет последние 10 строк датафрейма X"
   ]
  },
  {
   "cell_type": "code",
   "execution_count": null,
   "metadata": {},
   "outputs": [],
   "source": []
  },
  {
   "cell_type": "code",
   "execution_count": 8,
   "metadata": {},
   "outputs": [
    {
     "name": "stdout",
     "output_type": "stream",
     "text": [
      "\n",
      "Количество строк в X_train: 7000 \n",
      "Количество строк в y_train: 7000 \n",
      "Количество строк в X_test: 3000 \n",
      "Количество строк в y_test: 3000 \n",
      "\n"
     ]
    }
   ],
   "source": [
    "print(\"\"\"\n",
    "Количество строк в X_train: %s \n",
    "Количество строк в y_train: %s \n",
    "Количество строк в X_test: %s \n",
    "Количество строк в y_test: %s \n",
    "\"\"\" % (\n",
    "    X_train.shape[0],\n",
    "    y_train.shape[0],\n",
    "    X_test.shape[0],\n",
    "    y_test.shape[0]\n",
    "))"
   ]
  },
  {
   "cell_type": "markdown",
   "metadata": {},
   "source": [
    "Окей, давайте обучим решающее дерево!\n",
    "#### Задание 3\n",
    "Обучите решающее дерево (назовите его tree) на паре X_train, y_train"
   ]
  },
  {
   "cell_type": "code",
   "execution_count": 9,
   "metadata": {},
   "outputs": [
    {
     "data": {
      "text/plain": [
       "DecisionTreeClassifier(class_weight=None, criterion='gini', max_depth=None,\n",
       "            max_features=None, max_leaf_nodes=None,\n",
       "            min_impurity_decrease=0.0, min_impurity_split=None,\n",
       "            min_samples_leaf=1, min_samples_split=2,\n",
       "            min_weight_fraction_leaf=0.0, presort=False, random_state=None,\n",
       "            splitter='best')"
      ]
     },
     "execution_count": 9,
     "metadata": {},
     "output_type": "execute_result"
    }
   ],
   "source": []
  },
  {
   "cell_type": "markdown",
   "metadata": {},
   "source": [
    "Давайте теперь посмотрим на его качество (в смысле метрики accuracy) на тестовых данных.       \n",
    "#### Задание 4\n",
    "Получите предсказания алгоритма (назовите эту переменную y_pred) на данных X_test."
   ]
  },
  {
   "cell_type": "code",
   "execution_count": 10,
   "metadata": {},
   "outputs": [],
   "source": []
  },
  {
   "cell_type": "markdown",
   "metadata": {},
   "source": [
    "#### Задание 5\n",
    "Посчитайте метрику accuracy между y_pred и y_test"
   ]
  },
  {
   "cell_type": "code",
   "execution_count": 11,
   "metadata": {},
   "outputs": [
    {
     "data": {
      "text/plain": [
       "0.8746666666666667"
      ]
     },
     "execution_count": 11,
     "metadata": {},
     "output_type": "execute_result"
    }
   ],
   "source": []
  },
  {
   "cell_type": "markdown",
   "metadata": {},
   "source": [
    "У меня получилось точность 87%.      \n",
    "Неожиданно очень хороший результат для такого алгоритма.       \n",
    "Впрочем, он все равно намного ниже, чем точность на обучающей выборке.        \n",
    "Это явление, когда алгоритм на новых данных показывает заметно более плохие результаты, называется **переобучение**. Почему же так происходит?"
   ]
  },
  {
   "cell_type": "markdown",
   "metadata": {},
   "source": [
    "<i> Лучше всего продемонстрировать этот эффект на немного других данных. Возьмем датасет с конкурса о Титанике.      \n",
    "Об этом -- в следующем ноутбуке.       \n",
    "А пока вот вам задача по программированию:</i>"
   ]
  },
  {
   "cell_type": "markdown",
   "metadata": {},
   "source": [
    "Задача \"Boolean Algebra\" с сайта checkio.org      \n",
    "В математике и математической логике, Булева алгебра это подраздел алгебры в котором значения переменных истинны или ложны и обычно обозначенны 0 или 1 соответственно. В отличии от простой алгебры где значение переменных это числа и основные операции это сложение и умножение, основные операции Булевой алегбры это **конъюнкция** (обозначенная ∧), **дизъюнкция** (обозначенная ∨) и **отрицание** (обозначенное ¬).\n",
    "\n",
    "В этой миссии вам нужно реализовать несколько булевых операций:\n",
    "- \"конъюнкция\" (\"conjunction\") обозначенная $x ∧ y$, удовлетворяющая условиям $x ∧ y = 1$ если $x = y = 1$ и $x ∧ y = 0$ иначе.\n",
    "- \"дизъюнкция\" (\"disjunction\") обозначенная $ x ∨ y$, удовлетворяющая условиям $x ∨ y = 0 $ если $x = y = 0$ и $x ∨ y = 1$ иначе.\n",
    "- \"импликация\" (\"implication\") (прямая импликация) обозначенная $x→y$ и описанная как $¬ x ∨ y$. Если $x$ это истина, тогда значение $x → y$ берется такое как у $y$. Но если $x$ ложь, тогда значение $y$ может быть игнорированно.\n",
    "- \"исключение\" (\"exclusive\") (исключающее ИЛИ) обозначенное $x ⊕ y$ и описанное как $(x ∨ y)∧ ¬ (x ∧ y)$. Это исключает вероятность обоих $x$ и $y$. В терминах арифметики, это сложение по модулю $2$, где $1 + 1 = 0$.\n",
    "- \"эквивалентность\" (\"equivalence\") обозначенная $x ≡ y$ и описанная как $¬ (x ⊕ y)$. Это истина, когда $x$ и $y$ имеют одинаковые значения.\n",
    "\n",
    "Даны два булевых значения **x** и **y** как **1** или **0** и дано **имя операции**, как описано ранее. Вы должны вычислить значение и вернуть его как 1 или 0.\n",
    "\n",
    "Входные значения: Три аргумента. X и Y как 0 или 1. Имя операции, как строка.\n",
    "\n",
    "Выходное значение: Результат как 1 или 0."
   ]
  },
  {
   "cell_type": "code",
   "execution_count": 1,
   "metadata": {},
   "outputs": [],
   "source": [
    "def boolean(x, y, operation):\n",
    "    return \"My answer\""
   ]
  },
  {
   "cell_type": "code",
   "execution_count": 2,
   "metadata": {},
   "outputs": [
    {
     "ename": "AssertionError",
     "evalue": "and",
     "traceback": [
      "\u001b[1;31m---------------------------------------------------------------------------\u001b[0m",
      "\u001b[1;31mAssertionError\u001b[0m                            Traceback (most recent call last)",
      "\u001b[1;32m<ipython-input-2-ceaff72a659a>\u001b[0m in \u001b[0;36m<module>\u001b[1;34m()\u001b[0m\n\u001b[1;32m----> 1\u001b[1;33m \u001b[1;32massert\u001b[0m \u001b[0mboolean\u001b[0m\u001b[1;33m(\u001b[0m\u001b[1;36m1\u001b[0m\u001b[1;33m,\u001b[0m \u001b[1;36m0\u001b[0m\u001b[1;33m,\u001b[0m \u001b[1;34m\"conjunction\"\u001b[0m\u001b[1;33m)\u001b[0m \u001b[1;33m==\u001b[0m \u001b[1;36m0\u001b[0m\u001b[1;33m,\u001b[0m \u001b[1;34m\"and\"\u001b[0m\u001b[1;33m\u001b[0m\u001b[0m\n\u001b[0m\u001b[0;32m      2\u001b[0m \u001b[1;32massert\u001b[0m \u001b[0mboolean\u001b[0m\u001b[1;33m(\u001b[0m\u001b[1;36m1\u001b[0m\u001b[1;33m,\u001b[0m \u001b[1;36m0\u001b[0m\u001b[1;33m,\u001b[0m \u001b[1;34m\"disjunction\"\u001b[0m\u001b[1;33m)\u001b[0m \u001b[1;33m==\u001b[0m \u001b[1;36m1\u001b[0m\u001b[1;33m,\u001b[0m \u001b[1;34m\"or\"\u001b[0m\u001b[1;33m\u001b[0m\u001b[0m\n\u001b[0;32m      3\u001b[0m \u001b[1;32massert\u001b[0m \u001b[0mboolean\u001b[0m\u001b[1;33m(\u001b[0m\u001b[1;36m1\u001b[0m\u001b[1;33m,\u001b[0m \u001b[1;36m1\u001b[0m\u001b[1;33m,\u001b[0m \u001b[1;34m\"implication\"\u001b[0m\u001b[1;33m)\u001b[0m \u001b[1;33m==\u001b[0m \u001b[1;36m1\u001b[0m\u001b[1;33m,\u001b[0m \u001b[1;34m\"material\"\u001b[0m\u001b[1;33m\u001b[0m\u001b[0m\n\u001b[0;32m      4\u001b[0m \u001b[1;32massert\u001b[0m \u001b[0mboolean\u001b[0m\u001b[1;33m(\u001b[0m\u001b[1;36m0\u001b[0m\u001b[1;33m,\u001b[0m \u001b[1;36m1\u001b[0m\u001b[1;33m,\u001b[0m \u001b[1;34m\"exclusive\"\u001b[0m\u001b[1;33m)\u001b[0m \u001b[1;33m==\u001b[0m \u001b[1;36m1\u001b[0m\u001b[1;33m,\u001b[0m \u001b[1;34m\"xor\"\u001b[0m\u001b[1;33m\u001b[0m\u001b[0m\n\u001b[0;32m      5\u001b[0m \u001b[1;32massert\u001b[0m \u001b[0mboolean\u001b[0m\u001b[1;33m(\u001b[0m\u001b[1;36m0\u001b[0m\u001b[1;33m,\u001b[0m \u001b[1;36m1\u001b[0m\u001b[1;33m,\u001b[0m \u001b[1;34m\"equivalence\"\u001b[0m\u001b[1;33m)\u001b[0m \u001b[1;33m==\u001b[0m \u001b[1;36m0\u001b[0m\u001b[1;33m,\u001b[0m \u001b[1;34m\"same?\"\u001b[0m\u001b[1;33m\u001b[0m\u001b[0m\n",
      "\u001b[1;31mAssertionError\u001b[0m: and"
     ],
     "output_type": "error"
    }
   ],
   "source": [
    "assert boolean(1, 0, \"conjunction\") == 0, \"and\"\n",
    "assert boolean(1, 0, \"disjunction\") == 1, \"or\"\n",
    "assert boolean(1, 1, \"implication\") == 1, \"material\"\n",
    "assert boolean(0, 1, \"exclusive\") == 1, \"xor\"\n",
    "assert boolean(0, 1, \"equivalence\") == 0, \"same?\""
   ]
  },
  {
   "cell_type": "code",
   "execution_count": null,
   "metadata": {},
   "outputs": [],
   "source": []
  }
 ],
 "metadata": {
  "kernelspec": {
   "display_name": "Python 3",
   "language": "python",
   "name": "python3"
  },
  "language_info": {
   "codemirror_mode": {
    "name": "ipython",
    "version": 3
   },
   "file_extension": ".py",
   "mimetype": "text/x-python",
   "name": "python",
   "nbconvert_exporter": "python",
   "pygments_lexer": "ipython3",
   "version": "3.7.0"
  }
 },
 "nbformat": 4,
 "nbformat_minor": 2
}

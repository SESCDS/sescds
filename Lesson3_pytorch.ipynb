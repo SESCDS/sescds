{
  "nbformat": 4,
  "nbformat_minor": 0,
  "metadata": {
    "colab": {
      "name": "Lesson3_pytorch.ipynb",
      "version": "0.3.2",
      "provenance": [],
      "collapsed_sections": [],
      "include_colab_link": true
    },
    "kernelspec": {
      "display_name": "Python 3",
      "language": "python",
      "name": "python3"
    }
  },
  "cells": [
    {
      "cell_type": "markdown",
      "metadata": {
        "id": "view-in-github",
        "colab_type": "text"
      },
      "source": [
        "<a href=\"https://colab.research.google.com/github/SESCDS/sescds/blob/master/Lesson3_pytorch.ipynb\" target=\"_parent\"><img src=\"https://colab.research.google.com/assets/colab-badge.svg\" alt=\"Open In Colab\"/></a>"
      ]
    },
    {
      "metadata": {
        "id": "77uGVELOlx2v",
        "colab_type": "text"
      },
      "cell_type": "markdown",
      "source": [
        "<h1>Основы Pytorch </h1> "
      ]
    },
    {
      "metadata": {
        "id": "AuZGE_Q3lx2y",
        "colab_type": "text"
      },
      "cell_type": "markdown",
      "source": [
        "<p>В этот раз мы снова сделаем линейную регрессию, но уже с использованием стандартных методов Pytorch - это может подготовиться к созданию более сложных моделей</p>"
      ]
    },
    {
      "metadata": {
        "id": "wO0qTycclx21",
        "colab_type": "text"
      },
      "cell_type": "markdown",
      "source": [
        "<h2>Подготовка</h2>\n",
        "Это вспомогательные функции для визуализации, нет нужды разбираться в них, просто пройдите по ячейкам"
      ]
    },
    {
      "metadata": {
        "id": "swj2DprRlx27",
        "colab_type": "code",
        "colab": {}
      },
      "cell_type": "code",
      "source": [
        "# Нужные библиотеки\n",
        "\n",
        "import numpy as np\n",
        "import matplotlib.pyplot as plt\n",
        "from mpl_toolkits import mplot3d"
      ],
      "execution_count": 0,
      "outputs": []
    },
    {
      "metadata": {
        "id": "6kAK_qBblx3F",
        "colab_type": "text"
      },
      "cell_type": "markdown",
      "source": [
        "Класс <code>plot_error_surfaces</code> поможет отрисовать пространство данных (x, y) и пространство параметров (w0, w1), чтобы лучше видеть, что происходит во время тренировки"
      ]
    },
    {
      "metadata": {
        "id": "PmSDFaBLlx3H",
        "colab_type": "code",
        "colab": {}
      },
      "cell_type": "code",
      "source": [
        "# class for ploting  \n",
        "\n",
        "class plot_error_surfaces(object):\n",
        "    \n",
        "    # Constructor\n",
        "    def __init__(self, w1_range, w0_range, X, Y, n_samples = 30, go = False):\n",
        "        W = np.linspace(-w1_range, w1_range, n_samples)\n",
        "        B = np.linspace(-w0_range, w0_range, n_samples)\n",
        "        w, b = np.meshgrid(W, B)    \n",
        "        Z = np.zeros((30, 30))\n",
        "        count1 = 0\n",
        "        self.y = Y.numpy()\n",
        "        self.x = X.numpy()\n",
        "        for w1, b1 in zip(w, b):\n",
        "            count2 = 0\n",
        "            for w2, b2 in zip(w1, b1):\n",
        "                Z[count1, count2] = np.mean((self.y + w2 * self.x + b2) ** 2)\n",
        "                count2 += 1\n",
        "            count1 += 1\n",
        "        self.Z = Z\n",
        "        self.w = w\n",
        "        self.b = b\n",
        "        self.W = []\n",
        "        self.B = []\n",
        "        self.LOSS = []\n",
        "        self.n = 0\n",
        "        if go == True:\n",
        "            plt.figure(figsize = (15, 10))\n",
        "            plt.figure(figsize = (15, 10))\n",
        "            plt.axes(projection = '3d').plot_surface(self.w, self.b, self.Z, rstride = 1, cstride = 1, cmap = 'viridis', edgecolor = 'none')\n",
        "            plt.title('Loss Surface')\n",
        "            plt.xlabel('w0')\n",
        "            plt.ylabel('w1')\n",
        "            plt.show()\n",
        "            plt.figure()\n",
        "            plt.title('Loss Surface Contour')\n",
        "            plt.xlabel('w0')\n",
        "            plt.ylabel('w1')\n",
        "            plt.contour(self.w, self.b, self.Z, levels=20)\n",
        "            plt.show()\n",
        "            \n",
        "    # Setter\n",
        "    def set_para_loss(self, model, loss):\n",
        "        self.n = self.n + 1\n",
        "        self.LOSS.append(loss)\n",
        "        self.W.append(list(model.parameters())[0].item())\n",
        "        self.B.append(list(model.parameters())[1].item())\n",
        "    \n",
        "    # Plot diagram\n",
        "    def final_plot(self):\n",
        "        plt.figure(figsize = (15, 10))\n",
        "        ax = plt.axes(projection = '3d')\n",
        "        ax.plot_wireframe(self.w, self.b, self.Z)\n",
        "        ax.scatter(self.W, self.B, self.LOSS, c = 'r', marker = 'x', s = 200, alpha = 1)\n",
        "        plt.figure(figsize = (15, 10))\n",
        "        plt.contour(self.w, self.b, self.Z)\n",
        "        plt.scatter(self.W, self.B, c = 'r', marker = 'x')\n",
        "        plt.xlabel('w')\n",
        "        plt.ylabel('b')\n",
        "        plt.show()\n",
        "        \n",
        "    # Plot diagram    \n",
        "    def plot_ps(self):\n",
        "        plt.figure(figsize = (10, 5))\n",
        "        plt.subplot(121)\n",
        "        plt.ylim()\n",
        "        plt.plot(self.x, self.y, 'ro', label = \"training points\")\n",
        "        plt.plot(self.x, self.W[-1] * self.x + self.B[-1], label = \"estimated line\")\n",
        "        plt.legend()\n",
        "        plt.xlabel('x')\n",
        "        plt.ylabel('y')\n",
        "        plt.ylim((-10, 15))\n",
        "        plt.title('Data Space Iteration: ' + str(self.n))\n",
        "        plt.subplot(122)\n",
        "        plt.contour(self.b, self.w, self.Z, levels=20)\n",
        "        plt.scatter(self.W, self.B, c = 'r', marker = 'x')\n",
        "        plt.title('Loss Surface Contour Iteration' + str(self.n) )\n",
        "        plt.xlabel('w1')\n",
        "        plt.ylabel('w0')\n",
        "        plt.show()"
      ],
      "execution_count": 0,
      "outputs": []
    },
    {
      "metadata": {
        "id": "WzgsmS9-lx3T",
        "colab_type": "text"
      },
      "cell_type": "markdown",
      "source": [
        "<h2>Сгенерируем данные</h2>"
      ]
    },
    {
      "metadata": {
        "id": "zZ9PgKgjlx3V",
        "colab_type": "text"
      },
      "cell_type": "markdown",
      "source": [
        "Импорт библиотек"
      ]
    },
    {
      "metadata": {
        "id": "bSVC-k0Nlx3Y",
        "colab_type": "code",
        "outputId": "e5b84526-9098-4a23-b22b-fe2d42504382",
        "colab": {
          "base_uri": "https://localhost:8080/",
          "height": 34
        }
      },
      "cell_type": "code",
      "source": [
        "# Импорт библиотек и установка random_seed - параметра, который обеспечит воспроизводимость случайных чисел\n",
        "\n",
        "import torch\n",
        "from torch.utils.data import Dataset, DataLoader\n",
        "torch.manual_seed(1)"
      ],
      "execution_count": 0,
      "outputs": [
        {
          "output_type": "execute_result",
          "data": {
            "text/plain": [
              "<torch._C.Generator at 0x7fda1f15d110>"
            ]
          },
          "metadata": {
            "tags": []
          },
          "execution_count": 3
        }
      ]
    },
    {
      "metadata": {
        "id": "K6xD7H3Qlx3s",
        "colab_type": "text"
      },
      "cell_type": "markdown",
      "source": [
        "Создадим датасет в стиле Pytorch - это класс, который возвращает данные."
      ]
    },
    {
      "metadata": {
        "id": "Hkea8qQRlx3v",
        "colab_type": "code",
        "colab": {}
      },
      "cell_type": "code",
      "source": [
        "# Создаем класс Data - он наследует класс Dataset.\n",
        "\n",
        "class Data(Dataset):\n",
        "    \n",
        "    # Конструктор\n",
        "    \n",
        "    #В любом классе сначала идет инициализация - это действия, которые произойдут при его создании. \n",
        "    #В нашем случае мы при создании сгенерируем массивы х и y.\n",
        "    def __init__(self):\n",
        "        self.x = torch.arange(-1, 1, 0.02).view(-1, 1)\n",
        "        self.f = 1 * self.x - 1 #это \"правильная\" функция от x\n",
        "        self.y = self.f + 0.2 * torch.randn(self.x.size()) # это \"реальные данные\" с шумом\n",
        "        self.len = self.x.shape[0] # это размер данных\n",
        "        \n",
        "    # Первая из двух обязательных функций класса Dataset - она возвращает одну точку из данных,\n",
        "    #т. е. в нашем случае одну пару (x,y)\n",
        "    def __getitem__(self,index):    \n",
        "        return self.x[index],self.y[index]\n",
        "    \n",
        "    # Вторая из обязательных функций класса Dataset - она возвращает количество точек.\n",
        "    def __len__(self):\n",
        "        return self.len"
      ],
      "execution_count": 0,
      "outputs": []
    },
    {
      "metadata": {
        "colab_type": "text",
        "id": "y0J6gkZFrRU3"
      },
      "cell_type": "markdown",
      "source": [
        "Теперь создадим объект класса Data: "
      ]
    },
    {
      "metadata": {
        "id": "n49gET65lx35",
        "colab_type": "code",
        "colab": {}
      },
      "cell_type": "code",
      "source": [
        "# Создаем объект класса Data\n",
        "\n",
        "dataset = Data()"
      ],
      "execution_count": 0,
      "outputs": []
    },
    {
      "metadata": {
        "id": "6ywOYR5Alx4E",
        "colab_type": "text"
      },
      "cell_type": "markdown",
      "source": [
        "Построим график с данными:"
      ]
    },
    {
      "metadata": {
        "id": "C75igTmnlx4G",
        "colab_type": "code",
        "outputId": "1b33aca2-d211-432b-b0b4-c77b1fe2a660",
        "colab": {
          "base_uri": "https://localhost:8080/",
          "height": 378
        }
      },
      "cell_type": "code",
      "source": [
        "# График с данными\n",
        "# Обратите внимание, что бы обращаемся к атрибутам класса dataset: dataset.x и т.п.\n",
        "# Также, поскольку изначально x, y  - это тензоры, с которыми matplotlib напрямую не работает, мы перводим их в numpy\n",
        "plt.plot(dataset.x.numpy(), dataset.y.numpy(), 'ro')\n",
        "plt.plot(dataset.x.numpy(), dataset.f.numpy(), label = 'f')\n",
        "plt.xlabel('x')\n",
        "plt.ylabel('y')\n",
        "plt.legend()"
      ],
      "execution_count": 0,
      "outputs": [
        {
          "output_type": "execute_result",
          "data": {
            "text/plain": [
              "<matplotlib.legend.Legend at 0x7fda1c3b6668>"
            ]
          },
          "metadata": {
            "tags": []
          },
          "execution_count": 34
        },
        {
          "output_type": "display_data",
          "data": {
            "image/png": "[encoded data removed]",
            "text/plain": [
              "<Figure size 576x396 with 1 Axes>"
            ]
          },
          "metadata": {
            "tags": []
          }
        }
      ]
    },
    {
      "metadata": {
        "id": "L2RHoQdJlx4m",
        "colab_type": "text"
      },
      "cell_type": "markdown",
      "source": [
        "<!--Empty Space for separating topics-->"
      ]
    },
    {
      "metadata": {
        "id": "UmwIo4Zulx4o",
        "colab_type": "text"
      },
      "cell_type": "markdown",
      "source": [
        "<h2>Создадим модель и зададим функцию ошибок</h2>"
      ]
    },
    {
      "metadata": {
        "id": "hWJtcY0ylx4r",
        "colab_type": "text"
      },
      "cell_type": "markdown",
      "source": [
        "Создадим класс линейной регрессии"
      ]
    },
    {
      "metadata": {
        "id": "ovzsvdeKlx4t",
        "colab_type": "code",
        "colab": {}
      },
      "cell_type": "code",
      "source": [
        "# Мы уже подошли к самому главному - созданию своей архитектуры. Начнем с однослойной, т.е. просто линейной регрессии.\n",
        "\n",
        "from torch import nn, optim\n",
        "\n",
        "# Каждая архтиектура должна наследовать nn.Module\n",
        "class linear_regression(nn.Module):\n",
        "    \n",
        "    # Конструктор - в него передаются параметры слоев\n",
        "    def __init__(self, input_size, output_size):\n",
        "        # Следующая функция отвечает за инициализацию родительского класса nn.Module\n",
        "        # Её разбор - более глубокое погружение в ООП, чем нам нужно, пока просто примите её как особенность Pytorch\n",
        "        super(linear_regression, self).__init__() #аргументы - название нашего класса и self\n",
        "        \n",
        "        # Создаем лиейную функцию\n",
        "        self.linear = nn.Linear(input_size, output_size)\n",
        "        \n",
        "        \n",
        "    # Предсказания - обязательный метод, здесь идет проход черз слои нейросети\n",
        "    def forward(self, x):\n",
        "        yhat = self.linear(x)\n",
        "        return yhat"
      ],
      "execution_count": 0,
      "outputs": []
    },
    {
      "metadata": {
        "id": "6OlgYsX0lx49",
        "colab_type": "text"
      },
      "cell_type": "markdown",
      "source": [
        "Создадим объект класса linear_regression"
      ]
    },
    {
      "metadata": {
        "id": "rW9PR6Q2lx4_",
        "colab_type": "code",
        "colab": {}
      },
      "cell_type": "code",
      "source": [
        "# Архитектура\n",
        "\n",
        "model = linear_regression(1,1)"
      ],
      "execution_count": 0,
      "outputs": []
    },
    {
      "metadata": {
        "id": "Z-ZfJR8nlx42",
        "colab_type": "text"
      },
      "cell_type": "markdown",
      "source": [
        "Теперь создадим функцию, которая будет считать ошибку. В Pytorch уже есть среднеквадратичное отклонение:"
      ]
    },
    {
      "metadata": {
        "id": "IKbEZi3Flx44",
        "colab_type": "code",
        "colab": {}
      },
      "cell_type": "code",
      "source": [
        "# Функция ошибок\n",
        "\n",
        "criterion = nn.MSELoss()"
      ],
      "execution_count": 0,
      "outputs": []
    },
    {
      "metadata": {
        "id": "m--KPmvHzuTG",
        "colab_type": "text"
      },
      "cell_type": "markdown",
      "source": [
        "Создадим оптимизатор - объект, который будет осуществлять градиентный спуск"
      ]
    },
    {
      "metadata": {
        "id": "k8J6oK63ztQo",
        "colab_type": "code",
        "colab": {}
      },
      "cell_type": "code",
      "source": [
        "# Оптимизатор\n",
        "optimizer = optim.SGD(model.parameters(), lr = 0.03)"
      ],
      "execution_count": 0,
      "outputs": []
    },
    {
      "metadata": {
        "id": "EhSLdoCw0LwX",
        "colab_type": "text"
      },
      "cell_type": "markdown",
      "source": [
        "Оптимизатор всегда тесно связан с моделью, в качестве аргументов принимает параметры модели и learning_rate."
      ]
    },
    {
      "metadata": {
        "id": "VskooIZhlx5F",
        "colab_type": "text"
      },
      "cell_type": "markdown",
      "source": [
        "<img src=\"https://s3-api.us-geo.objectstorage.softlayer.net/cf-courses-data/CognitiveClass/DL0110EN/notebook_images%20/chapter2/2.4model_optmiz.png\" width=\"100\" alt=\"Model Optimizer\" />"
      ]
    },
    {
      "metadata": {
        "id": "i2aMNYfxlx5H",
        "colab_type": "text"
      },
      "cell_type": "markdown",
      "source": [
        "Создадим объект <code>Dataloader</code>  - он отвечает за то, чтобы делать батчи из данных, коорые поставляет dataset: "
      ]
    },
    {
      "metadata": {
        "id": "3wax1Q_qlx5I",
        "colab_type": "code",
        "colab": {}
      },
      "cell_type": "code",
      "source": [
        "# Dataloader\n",
        "\n",
        "trainloader = DataLoader(dataset = dataset, batch_size = 10)"
      ],
      "execution_count": 0,
      "outputs": []
    },
    {
      "metadata": {
        "id": "TvRZQF3Ulx5M",
        "colab_type": "text"
      },
      "cell_type": "markdown",
      "source": [
        "PyTorch по умолчанию задает случайные веса модели. Но мы хотим сделать хорошую визуализацию, поэтому зададим их сами, чтобы они были подальше от оптимальной точки и мы получше рассмотрели, как они меняются."
      ]
    },
    {
      "metadata": {
        "id": "MEW31aM2lx5O",
        "colab_type": "code",
        "colab": {}
      },
      "cell_type": "code",
      "source": [
        "# Задаем веса\n",
        "\n",
        "model.state_dict()['linear.weight'][0] = -4\n",
        "model.state_dict()['linear.bias'][0] = -4"
      ],
      "execution_count": 0,
      "outputs": []
    },
    {
      "metadata": {
        "id": "AbC0PHIhlx5Z",
        "colab_type": "text"
      },
      "cell_type": "markdown",
      "source": [
        "Создаем объект для помощи в визуализации"
      ]
    },
    {
      "metadata": {
        "id": "SL1nWk_Rlx5c",
        "colab_type": "code",
        "colab": {}
      },
      "cell_type": "code",
      "source": [
        "# plot surface\n",
        "get_surface = plot_error_surfaces(5, 5, dataset.x, dataset.y, 30, go = False)"
      ],
      "execution_count": 0,
      "outputs": []
    },
    {
      "metadata": {
        "id": "xNarJeDrlx5i",
        "colab_type": "text"
      },
      "cell_type": "markdown",
      "source": [
        "<h2>Обучение модели</h2>"
      ]
    },
    {
      "metadata": {
        "id": "3aY7A4xvlx5j",
        "colab_type": "text"
      },
      "cell_type": "markdown",
      "source": [
        "Запустим 10 эпох обучения."
      ]
    },
    {
      "metadata": {
        "id": "6Pr77IIulx5k",
        "colab_type": "code",
        "colab": {}
      },
      "cell_type": "code",
      "source": [
        "# Обучение модели\n",
        "\n",
        "def train_model_BGD(iter):\n",
        "    for epoch in range(iter):\n",
        "        for x,y in trainloader:\n",
        "            yhat = model(x)\n",
        "            loss = criterion(yhat, y)\n",
        "            get_surface.set_para_loss(model, loss.tolist())\n",
        "            optimizer.zero_grad()\n",
        "            loss.backward()\n",
        "            optimizer.step()\n",
        "        print(loss)      \n",
        "        get_surface.plot_ps()\n",
        "\n",
        "train_model_BGD(10)"
      ],
      "execution_count": 0,
      "outputs": []
    }
  ]
}